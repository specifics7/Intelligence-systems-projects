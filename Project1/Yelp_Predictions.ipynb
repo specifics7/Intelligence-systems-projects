{
 "cells": [
  {
   "cell_type": "markdown",
   "id": "a880fa44",
   "metadata": {},
   "source": [
    "# Project 1\n",
    "## Setting up dataframes"
   ]
  },
  {
   "cell_type": "code",
   "execution_count": 2,
   "id": "7b83c313",
   "metadata": {},
   "outputs": [
    {
     "data": {
      "text/html": [
       "<div>\n",
       "<style scoped>\n",
       "    .dataframe tbody tr th:only-of-type {\n",
       "        vertical-align: middle;\n",
       "    }\n",
       "\n",
       "    .dataframe tbody tr th {\n",
       "        vertical-align: top;\n",
       "    }\n",
       "\n",
       "    .dataframe thead th {\n",
       "        text-align: right;\n",
       "    }\n",
       "</style>\n",
       "<table border=\"1\" class=\"dataframe\">\n",
       "  <thead>\n",
       "    <tr style=\"text-align: right;\">\n",
       "      <th></th>\n",
       "      <th>business_id</th>\n",
       "      <th>stars</th>\n",
       "      <th>text</th>\n",
       "    </tr>\n",
       "  </thead>\n",
       "  <tbody>\n",
       "    <tr>\n",
       "      <th>0</th>\n",
       "      <td>XQfwVwDr-v0ZS3_CbbE5Xw</td>\n",
       "      <td>3.0</td>\n",
       "      <td>b\"If you decide to eat here, just be aware it ...</td>\n",
       "    </tr>\n",
       "    <tr>\n",
       "      <th>1</th>\n",
       "      <td>7ATYjTIgM3jUlt4UM3IypQ</td>\n",
       "      <td>5.0</td>\n",
       "      <td>b\"I've taken a lot of spin classes over the ye...</td>\n",
       "    </tr>\n",
       "    <tr>\n",
       "      <th>2</th>\n",
       "      <td>YjUWPpI6HXG530lwP-fb2A</td>\n",
       "      <td>3.0</td>\n",
       "      <td>b'Family diner. Had the buffet. Eclectic assor...</td>\n",
       "    </tr>\n",
       "    <tr>\n",
       "      <th>3</th>\n",
       "      <td>kxX2SOes4o-D3ZQBkiMRfA</td>\n",
       "      <td>5.0</td>\n",
       "      <td>b\"Wow!  Yummy, different,  delicious.   Our fa...</td>\n",
       "    </tr>\n",
       "    <tr>\n",
       "      <th>4</th>\n",
       "      <td>e4Vwtrqf-wpJfwesgvdgxQ</td>\n",
       "      <td>4.0</td>\n",
       "      <td>b\"Cute interior and owner (?) gave us tour of ...</td>\n",
       "    </tr>\n",
       "  </tbody>\n",
       "</table>\n",
       "</div>"
      ],
      "text/plain": [
       "              business_id  stars  \\\n",
       "0  XQfwVwDr-v0ZS3_CbbE5Xw    3.0   \n",
       "1  7ATYjTIgM3jUlt4UM3IypQ    5.0   \n",
       "2  YjUWPpI6HXG530lwP-fb2A    3.0   \n",
       "3  kxX2SOes4o-D3ZQBkiMRfA    5.0   \n",
       "4  e4Vwtrqf-wpJfwesgvdgxQ    4.0   \n",
       "\n",
       "                                                text  \n",
       "0  b\"If you decide to eat here, just be aware it ...  \n",
       "1  b\"I've taken a lot of spin classes over the ye...  \n",
       "2  b'Family diner. Had the buffet. Eclectic assor...  \n",
       "3  b\"Wow!  Yummy, different,  delicious.   Our fa...  \n",
       "4  b\"Cute interior and owner (?) gave us tour of ...  "
      ]
     },
     "execution_count": 2,
     "metadata": {},
     "output_type": "execute_result"
    }
   ],
   "source": [
    "import json  \n",
    "import csv   \n",
    "import os    \n",
    "import pandas as pd  \n",
    "import numpy as np   \n",
    "\n",
    "# Reading json file into dataframe\n",
    "outfile = open(\"review_stars.tsv\", 'w')\n",
    "\n",
    "sfile = csv.writer(outfile, delimiter = \"\\t\", quoting = csv.QUOTE_MINIMAL)\n",
    "\n",
    "sfile.writerow(['business_id', 'stars', 'text'])\n",
    "\n",
    "# Opening yelp_academic_dataset_review json \n",
    "with open('yelp_academic_dataset_review.json', encoding = \"utf-8\") as f:\n",
    "    for line in f:\n",
    "        row = json.loads(line)        \n",
    "        sfile.writerow([row['business_id'], row['stars'], row['text'].encode('utf-8')])\n",
    "outfile.close()\n",
    "\n",
    "# Read the 'review_stars.tsv' file into a pandas DataFrame\n",
    "df_reviews = pd.read_csv('review_stars.tsv', delimiter = \"\\t\", encoding = \"utf-8\")\n",
    "df_reviews[0:5] # Displaying first 5 rows\n"
   ]
  },
  {
   "cell_type": "code",
   "execution_count": 3,
   "id": "958b8af0",
   "metadata": {
    "scrolled": true
   },
   "outputs": [
    {
     "data": {
      "text/html": [
       "<div>\n",
       "<style scoped>\n",
       "    .dataframe tbody tr th:only-of-type {\n",
       "        vertical-align: middle;\n",
       "    }\n",
       "\n",
       "    .dataframe tbody tr th {\n",
       "        vertical-align: top;\n",
       "    }\n",
       "\n",
       "    .dataframe thead th {\n",
       "        text-align: right;\n",
       "    }\n",
       "</style>\n",
       "<table border=\"1\" class=\"dataframe\">\n",
       "  <thead>\n",
       "    <tr style=\"text-align: right;\">\n",
       "      <th></th>\n",
       "      <th>business_id</th>\n",
       "      <th>name</th>\n",
       "      <th>stars</th>\n",
       "      <th>categories</th>\n",
       "      <th>review_count</th>\n",
       "    </tr>\n",
       "  </thead>\n",
       "  <tbody>\n",
       "    <tr>\n",
       "      <th>0</th>\n",
       "      <td>Pns2l4eNsfO8kk83dixA6A</td>\n",
       "      <td>Abby Rappoport, LAC, CMQ</td>\n",
       "      <td>5.0</td>\n",
       "      <td>Doctors, Traditional Chinese Medicine, Naturop...</td>\n",
       "      <td>7</td>\n",
       "    </tr>\n",
       "    <tr>\n",
       "      <th>1</th>\n",
       "      <td>mpf3x-BjTdTEA3yCZrAYPw</td>\n",
       "      <td>The UPS Store</td>\n",
       "      <td>3.0</td>\n",
       "      <td>Shipping Centers, Local Services, Notaries, Ma...</td>\n",
       "      <td>15</td>\n",
       "    </tr>\n",
       "    <tr>\n",
       "      <th>2</th>\n",
       "      <td>tUFrWirKiKi_TAnsVWINQQ</td>\n",
       "      <td>Target</td>\n",
       "      <td>3.5</td>\n",
       "      <td>Department Stores, Shopping, Fashion, Home &amp; G...</td>\n",
       "      <td>22</td>\n",
       "    </tr>\n",
       "    <tr>\n",
       "      <th>3</th>\n",
       "      <td>MTSW4McQd7CbVtyjqoe9mw</td>\n",
       "      <td>St Honore Pastries</td>\n",
       "      <td>4.0</td>\n",
       "      <td>Restaurants, Food, Bubble Tea, Coffee &amp; Tea, B...</td>\n",
       "      <td>80</td>\n",
       "    </tr>\n",
       "    <tr>\n",
       "      <th>4</th>\n",
       "      <td>mWMc6_wTdE0EUBKIGXDVfA</td>\n",
       "      <td>Perkiomen Valley Brewery</td>\n",
       "      <td>4.5</td>\n",
       "      <td>Brewpubs, Breweries, Food</td>\n",
       "      <td>13</td>\n",
       "    </tr>\n",
       "  </tbody>\n",
       "</table>\n",
       "</div>"
      ],
      "text/plain": [
       "              business_id                      name  stars  \\\n",
       "0  Pns2l4eNsfO8kk83dixA6A  Abby Rappoport, LAC, CMQ    5.0   \n",
       "1  mpf3x-BjTdTEA3yCZrAYPw             The UPS Store    3.0   \n",
       "2  tUFrWirKiKi_TAnsVWINQQ                    Target    3.5   \n",
       "3  MTSW4McQd7CbVtyjqoe9mw        St Honore Pastries    4.0   \n",
       "4  mWMc6_wTdE0EUBKIGXDVfA  Perkiomen Valley Brewery    4.5   \n",
       "\n",
       "                                          categories  review_count  \n",
       "0  Doctors, Traditional Chinese Medicine, Naturop...             7  \n",
       "1  Shipping Centers, Local Services, Notaries, Ma...            15  \n",
       "2  Department Stores, Shopping, Fashion, Home & G...            22  \n",
       "3  Restaurants, Food, Bubble Tea, Coffee & Tea, B...            80  \n",
       "4                          Brewpubs, Breweries, Food            13  "
      ]
     },
     "execution_count": 3,
     "metadata": {},
     "output_type": "execute_result"
    }
   ],
   "source": [
    "outfile = open(\"businesses.tsv\", 'w')\n",
    "sfile = csv.writer(outfile, delimiter =\"\\t\", quoting=csv.QUOTE_MINIMAL)\n",
    "sfile.writerow(['business_id', 'name', 'stars', 'categories','review_count'])\n",
    "\n",
    "# Opening yelp_academic_dataset_business json \n",
    "\n",
    "with open('yelp_academic_dataset_business.json',encoding=\"utf-8\") as f:\n",
    "    for line in f:\n",
    "        row = json.loads(line)\n",
    "        sfile.writerow([row['business_id'], row['name'], row['stars'], row['categories'],row['review_count']])\n",
    "outfile.close()\n",
    "\n",
    "df_businesses = pd.read_csv('businesses.tsv', delimiter = \"\\t\", encoding = \"utf-8\")\n",
    "df_businesses[0:5] # Displaying first 5 rows"
   ]
  },
  {
   "cell_type": "markdown",
   "id": "d637afc2",
   "metadata": {},
   "source": [
    "## Removing records with less than 20 reviews"
   ]
  },
  {
   "cell_type": "code",
   "execution_count": 4,
   "id": "533a3592",
   "metadata": {},
   "outputs": [
    {
     "data": {
      "text/plain": [
       "(150346, 5)"
      ]
     },
     "execution_count": 4,
     "metadata": {},
     "output_type": "execute_result"
    }
   ],
   "source": [
    "df_businesses.shape # Before removal"
   ]
  },
  {
   "cell_type": "code",
   "execution_count": 5,
   "id": "ef268cf2",
   "metadata": {},
   "outputs": [],
   "source": [
    "# Dropping any records with less than 20 reviews\n",
    "df_businesses = df_businesses[df_businesses['review_count'] >= 20]"
   ]
  },
  {
   "cell_type": "code",
   "execution_count": 6,
   "id": "8c069601",
   "metadata": {},
   "outputs": [
    {
     "data": {
      "text/plain": [
       "(61919, 5)"
      ]
     },
     "execution_count": 6,
     "metadata": {},
     "output_type": "execute_result"
    }
   ],
   "source": [
    "df_businesses.shape # After removal"
   ]
  },
  {
   "cell_type": "markdown",
   "id": "414d1e77",
   "metadata": {},
   "source": [
    "## Merging review and business dataframes"
   ]
  },
  {
   "cell_type": "code",
   "execution_count": 7,
   "id": "550eadaa",
   "metadata": {},
   "outputs": [],
   "source": [
    "# Group reviews by business_id and concatenate all review texts for each business\n",
    "df_reviews_grouped = df_reviews.groupby('business_id')['text'].sum()\n",
    "\n",
    "# Reset index to turn 'business_id' from an index into a regular column\n",
    "df_reviews_grouped = df_reviews_grouped.reset_index()\n",
    "\n",
    "# Create new dataframe with business_id and the combined reviews \n",
    "df_ready_for_sklearn = pd.DataFrame({'business_id': df_reviews_grouped['business_id'], 'all_reviews': df_reviews_grouped['text']})\n",
    "\n",
    "# Merge the reviews dataframe with the business on 'business_id' column\n",
    "df_merge = pd.merge(df_ready_for_sklearn, df_businesses, on = 'business_id')\n"
   ]
  },
  {
   "cell_type": "code",
   "execution_count": 8,
   "id": "47e57f26",
   "metadata": {},
   "outputs": [
    {
     "data": {
      "text/html": [
       "<div>\n",
       "<style scoped>\n",
       "    .dataframe tbody tr th:only-of-type {\n",
       "        vertical-align: middle;\n",
       "    }\n",
       "\n",
       "    .dataframe tbody tr th {\n",
       "        vertical-align: top;\n",
       "    }\n",
       "\n",
       "    .dataframe thead th {\n",
       "        text-align: right;\n",
       "    }\n",
       "</style>\n",
       "<table border=\"1\" class=\"dataframe\">\n",
       "  <thead>\n",
       "    <tr style=\"text-align: right;\">\n",
       "      <th></th>\n",
       "      <th>business_id</th>\n",
       "      <th>all_reviews</th>\n",
       "      <th>name</th>\n",
       "      <th>stars</th>\n",
       "      <th>categories</th>\n",
       "      <th>review_count</th>\n",
       "    </tr>\n",
       "  </thead>\n",
       "  <tbody>\n",
       "    <tr>\n",
       "      <th>0</th>\n",
       "      <td>---kPU91CF4Lq2-WlRu9Lw</td>\n",
       "      <td>b\"Ate here for the 1st time on Saturday 08/07/...</td>\n",
       "      <td>Frankie's Raw Bar</td>\n",
       "      <td>4.5</td>\n",
       "      <td>Seafood, Restaurants, Latin American, Food, Fo...</td>\n",
       "      <td>24</td>\n",
       "    </tr>\n",
       "    <tr>\n",
       "      <th>1</th>\n",
       "      <td>--8IbOsAAxjKRoYsBFL-PA</td>\n",
       "      <td>b'Took me for 40 bucks through grubhub, no cal...</td>\n",
       "      <td>The Original Italian Pie</td>\n",
       "      <td>3.0</td>\n",
       "      <td>Food, Restaurants, Italian</td>\n",
       "      <td>27</td>\n",
       "    </tr>\n",
       "    <tr>\n",
       "      <th>2</th>\n",
       "      <td>--9osgUCSDUWUkoTLdvYhQ</td>\n",
       "      <td>b'I loved this!!!! I was set up on a blind dat...</td>\n",
       "      <td>Will You Escape?</td>\n",
       "      <td>5.0</td>\n",
       "      <td>Active Life, Challenge Courses, Escape Games</td>\n",
       "      <td>29</td>\n",
       "    </tr>\n",
       "    <tr>\n",
       "      <th>3</th>\n",
       "      <td>--ARBQr1WMsTWiwOKOj-FQ</td>\n",
       "      <td>b'What a great neighborhood place to wine it u...</td>\n",
       "      <td>Traveling Corks</td>\n",
       "      <td>4.5</td>\n",
       "      <td>Wine Bars, Nightlife, Bars</td>\n",
       "      <td>23</td>\n",
       "    </tr>\n",
       "    <tr>\n",
       "      <th>4</th>\n",
       "      <td>--FcbSxK1AoEtEAxOgBaCw</td>\n",
       "      <td>b\"This is my go to car wash establishment. Tod...</td>\n",
       "      <td>Victory Car Wash</td>\n",
       "      <td>3.5</td>\n",
       "      <td>Car Wash, Automotive</td>\n",
       "      <td>40</td>\n",
       "    </tr>\n",
       "  </tbody>\n",
       "</table>\n",
       "</div>"
      ],
      "text/plain": [
       "              business_id                                        all_reviews  \\\n",
       "0  ---kPU91CF4Lq2-WlRu9Lw  b\"Ate here for the 1st time on Saturday 08/07/...   \n",
       "1  --8IbOsAAxjKRoYsBFL-PA  b'Took me for 40 bucks through grubhub, no cal...   \n",
       "2  --9osgUCSDUWUkoTLdvYhQ  b'I loved this!!!! I was set up on a blind dat...   \n",
       "3  --ARBQr1WMsTWiwOKOj-FQ  b'What a great neighborhood place to wine it u...   \n",
       "4  --FcbSxK1AoEtEAxOgBaCw  b\"This is my go to car wash establishment. Tod...   \n",
       "\n",
       "                       name  stars  \\\n",
       "0         Frankie's Raw Bar    4.5   \n",
       "1  The Original Italian Pie    3.0   \n",
       "2          Will You Escape?    5.0   \n",
       "3           Traveling Corks    4.5   \n",
       "4          Victory Car Wash    3.5   \n",
       "\n",
       "                                          categories  review_count  \n",
       "0  Seafood, Restaurants, Latin American, Food, Fo...            24  \n",
       "1                         Food, Restaurants, Italian            27  \n",
       "2       Active Life, Challenge Courses, Escape Games            29  \n",
       "3                         Wine Bars, Nightlife, Bars            23  \n",
       "4                               Car Wash, Automotive            40  "
      ]
     },
     "execution_count": 8,
     "metadata": {},
     "output_type": "execute_result"
    }
   ],
   "source": [
    "df_merge[0:5] # Merged dataframe, display "
   ]
  },
  {
   "cell_type": "code",
   "execution_count": 9,
   "id": "34e9c9e5",
   "metadata": {},
   "outputs": [
    {
     "data": {
      "text/plain": [
       "(61919, 6)"
      ]
     },
     "execution_count": 9,
     "metadata": {},
     "output_type": "execute_result"
    }
   ],
   "source": [
    "df_merge.shape"
   ]
  },
  {
   "cell_type": "markdown",
   "id": "bb92c247",
   "metadata": {},
   "source": [
    "## TF-IDF model"
   ]
  },
  {
   "cell_type": "code",
   "execution_count": 10,
   "id": "9cb3f7bf",
   "metadata": {},
   "outputs": [
    {
     "name": "stdout",
     "output_type": "stream",
     "text": [
      "<class 'scipy.sparse._csr.csr_matrix'>\n",
      "[[0.         0.         0.         ... 0.02400581 0.03107729 0.        ]\n",
      " [0.02006421 0.         0.         ... 0.         0.         0.0215981 ]\n",
      " [0.         0.         0.         ... 0.         0.         0.        ]\n",
      " ...\n",
      " [0.02144795 0.         0.         ... 0.02148839 0.         0.        ]\n",
      " [0.         0.         0.         ... 0.03029127 0.         0.03254565]\n",
      " [0.12028862 0.02505155 0.         ... 0.02410308 0.         0.        ]]\n",
      "['00' '100' '11' '12' '15' '20' '25' '30' '40' '45' '50' 'able' 'absolute'\n",
      " 'absolutely' 'accommodating' 'actual' 'add' 'added' 'addition'\n",
      " 'affordable' 'afternoon' 'ago' 'ahead' 'air' 'airport' 'ambiance'\n",
      " 'american' 'answer' 'app' 'apparently' 'appetizer' 'appetizers' 'apple'\n",
      " 'appointment' 'appreciate' 'aren' 'arrived' 'art' 'asian' 'asking' 'ate'\n",
      " 'atmosphere' 'attention' 'attentive' 'attitude' 'authentic' 'available'\n",
      " 'average' 'avocado' 'avoid' 'awful' 'baby' 'bacon' 'bag' 'baked' 'bar'\n",
      " 'barbara' 'barely' 'bars' 'bartender' 'bartenders' 'based' 'basic'\n",
      " 'basically' 'bathroom' 'bbq' 'beach' 'beans' 'beat' 'beautiful' 'bed'\n",
      " 'beef' 'beer' 'beers' 'believe' 'birthday' 'biscuits' 'bite' 'bites'\n",
      " 'black' 'bland' 'blue' 'book' 'bottle' 'bought' 'bourbon' 'bowl' 'box'\n",
      " 'boy' 'boyfriend' 'bread' 'break' 'breakfast' 'bring' 'brisket' 'broth'\n",
      " 'brought' 'brown' 'brunch' 'buffet' 'building' 'bun' 'bunch' 'burger'\n",
      " 'burgers' 'burrito' 'busy' 'butter' 'buy' 'cafe' 'cake' 'cakes'\n",
      " 'calamari' 'called' 'car' 'card' 'care' 'case' 'cash' 'casual' 'center'\n",
      " 'certainly' 'chain' 'chairs' 'chance' 'change' 'changed' 'charge'\n",
      " 'charged' 'cheap' 'checked' 'checking' 'cheese' 'cheesesteak' 'chef'\n",
      " 'chicken' 'chili' 'chinese' 'chips' 'chocolate' 'choice' 'choices'\n",
      " 'choose' 'chose' 'city' 'class' 'classic' 'cleaning' 'clear' 'clearly'\n",
      " 'close' 'closed' 'club' 'cocktail' 'cocktails' 'coconut' 'coffee' 'cold'\n",
      " 'color' 'combo' 'comes' 'comfortable' 'company' 'compared' 'complaint'\n",
      " 'complete' 'completely' 'considering' 'continue' 'convenient'\n",
      " 'conversation' 'cook' 'cooked' 'cookies' 'cooking' 'cool' 'corn' 'corner'\n",
      " 'cost' 'couldn' 'counter' 'country' 'couple' 'course' 'covered' 'covid'\n",
      " 'cozy' 'crab' 'craft' 'craving' 'crawfish' 'crazy' 'cream' 'creamy'\n",
      " 'credit' 'crisp' 'crispy' 'crowd' 'crowded' 'crust' 'cuisine' 'cup'\n",
      " 'curry' 'customers' 'cut' 'cute' 'dark' 'date' 'daughter' 'days' 'deal'\n",
      " 'decent' 'decor' 'deep' 'delicious' 'delivered' 'delivery' 'desk'\n",
      " 'despite' 'dessert' 'desserts' 'die' 'difficult' 'dine' 'diner' 'dining'\n",
      " 'dinner' 'dip' 'dirty' 'disappoint' 'disappointed' 'disappointing' 'dish'\n",
      " 'dishes' 'does' 'doesn' 'dog' 'dogs' 'doing' 'dollars' 'donuts' 'door'\n",
      " 'double' 'downtown' 'dr' 'dressing' 'drink' 'drinks' 'drive' 'dry' 'duck'\n",
      " 'dumplings' 'early' 'easily' 'easy' 'eat' 'eaten' 'eating' 'efficient'\n",
      " 'egg' 'eggs' 'employee' 'employees' 'end' 'ended' 'enjoy' 'enjoyed'\n",
      " 'entire' 'entree' 'entrees' 'environment' 'especially' 'establishment'\n",
      " 'evening' 'event' 'exactly' 'excellent' 'exceptional' 'excited' 'expect'\n",
      " 'expectations' 'expected' 'expecting' 'expensive' 'experienced'\n",
      " 'experiences' 'explained' 'extra' 'extremely' 'eye' 'fabulous' 'face'\n",
      " 'fact' 'fair' 'fairly' 'family' 'fan' 'fancy' 'fantastic' 'far' 'fast'\n",
      " 'favorite' 'favorites' 'feeling' 'felt' 'filet' 'filled' 'filling'\n",
      " 'finally' 'fine' 'finish' 'finished' 'fish' 'fix' 'fixed' 'flavor'\n",
      " 'flavorful' 'flavors' 'floor' 'folks' 'food' 'foods' 'forever' 'forget'\n",
      " 'forgot' 'forward' 'free' 'french' 'fresh' 'friday' 'fried' 'friend'\n",
      " 'friends' 'fries' 'frozen' 'fruit' 'fun' 'future' 'game' 'games' 'garden'\n",
      " 'garlic' 'gem' 'general' 'generous' 'gets' 'gift' 'girl' 'girls' 'given'\n",
      " 'giving' 'glad' 'glass' 'glasses' 'gluten' 'goes' 'gone' 'gotten' 'grab'\n",
      " 'gravy' 'greasy' 'greek' 'green' 'greens' 'greeted' 'grill' 'grilled'\n",
      " 'grits' 'group' 'guacamole' 'guess' 'guests' 'gumbo' 'guy' 'guys' 'hair'\n",
      " 'half' 'hand' 'hands' 'hang' 'happen' 'happened' 'hard' 'hate' 'haven'\n",
      " 'head' 'healthy' 'hear' 'heard' 'heart' 'heat' 'heavy' 'help' 'helped'\n",
      " 'helpful' 'hidden' 'high' 'higher' 'highly' 'hit' 'hold' 'homemade'\n",
      " 'honest' 'honestly' 'honey' 'hope' 'horrible' 'hostess' 'hot' 'hotel'\n",
      " 'hour' 'hours' 'house' 'huge' 'hummus' 'hungry' 'husband' 'ice' 'iced'\n",
      " 'idea' 'immediately' 'impressed' 'included' 'including' 'incredible'\n",
      " 'incredibly' 'indian' 'ingredients' 'inside' 'instead' 'interesting'\n",
      " 'interior' 'isn' 'issue' 'issues' 'italian' 'item' 'items' 'job' 'joint'\n",
      " 'juice' 'juicy' 'kept' 'key' 'kid' 'kids' 'kinda' 'kitchen' 'knew'\n",
      " 'knowledgeable' 'known' 'knows' 'la' 'lack' 'lady' 'lamb' 'large' 'late'\n",
      " 'later' 'leave' 'leaving' 'lemon' 'lettuce' 'level' 'life' 'light'\n",
      " 'liked' 'limited' 'line' 'list' 'literally' 'live' 'lived' 'lobster'\n",
      " 'local' 'located' 'lol' 'longer' 'looked' 'looks' 'lost' 'lots' 'loud'\n",
      " 'louis' 'loved' 'lovely' 'low' 'lucky' 'lunch' 'mac' 'main' 'makes'\n",
      " 'making' 'mall' 'man' 'management' 'manager' 'margarita' 'market'\n",
      " 'massage' 'matter' 'maybe' 'meal' 'meals' 'mean' 'means' 'meat' 'meats'\n",
      " 'mediocre' 'medium' 'meet' 'mention' 'mentioned' 'menu' 'met' 'mexican'\n",
      " 'middle' 'milk' 'min' 'mind' 'mins' 'minute' 'miss' 'missing' 'mistake'\n",
      " 'mix' 'mixed' 'modern' 'mom' 'monday' 'money' 'month' 'months' 'morning'\n",
      " 'mother' 'mouth' 'moved' 'movie' 'moving' 'multiple' 'mushroom'\n",
      " 'mushrooms' 'music' 'nachos' 'nail' 'nails' 'nall' 'nand' 'nas'\n",
      " 'nashville' 'near' 'nearby' 'nearly' 'needed' 'needs' 'negative'\n",
      " 'neighborhood' 'nfood' 'nfor' 'nicely' 'nif' 'night' 'nights' 'nit' 'nmy'\n",
      " 'nola' 'non' 'noodles' 'normal' 'normally' 'notch' 'note' 'noticed'\n",
      " 'nour' 'noverall' 'nservice' 'nso' 'nthere' 'nthey' 'nthis' 'number'\n",
      " 'nwe' 'nwhen' 'obviously' 'offer' 'offered' 'office' 'oh' 'oil' 'ok'\n",
      " 'okay' 'old' 'ones' 'onion' 'onions' 'online' 'open' 'opened' 'opening'\n",
      " 'opinion' 'option' 'options' 'orange' 'ordered' 'ordering' 'orders'\n",
      " 'original' 'orleans' 'outdoor' 'outside' 'outstanding' 'overall' 'overly'\n",
      " 'overpriced' 'owner' 'owners' 'oysters' 'packed' 'pad' 'paid' 'pancakes'\n",
      " 'paper' 'park' 'parking' 'party' 'pass' 'past' 'pasta' 'patient' 'patio'\n",
      " 'pay' 'paying' 'pedicure' 'pepper' 'peppers' 'perfect' 'perfection'\n",
      " 'perfectly' 'person' 'personal' 'phenomenal' 'philadelphia' 'philly'\n",
      " 'pho' 'phone' 'pick' 'picked' 'pictures' 'pie' 'piece' 'pieces' 'pizza'\n",
      " 'pizzas' 'placed' 'places' 'plain' 'plan' 'plate' 'plates' 'platter'\n",
      " 'play' 'playing' 'pleasant' 'pleased' 'plenty' 'plus' 'pm' 'po' 'point'\n",
      " 'polite' 'pool' 'poor' 'pork' 'portion' 'portions' 'positive' 'possible'\n",
      " 'potato' 'potatoes' 'prefer' 'prepared' 'previous' 'priced' 'pricey'\n",
      " 'probably' 'problem' 'process' 'products' 'professional' 'provided'\n",
      " 'pudding' 'pulled' 'purchase' 'purchased' 'quarter' 'questions' 'quick'\n",
      " 'quickly' 'quiet' 'quite' 'ramen' 'rare' 'rating' 'raw' 'read' 'reading'\n",
      " 'ready' 'real' 'reason' 'reasonable' 'reasonably' 'received' 'recently'\n",
      " 'recommended' 'red' 'regular' 'relaxing' 'remember' 'reno' 'request'\n",
      " 'reservation' 'reservations' 'rest' 'restaurant' 'restaurants' 'return'\n",
      " 'returned' 'returning' 'reviews' 'rib' 'ribs' 'rice' 'rich' 'road'\n",
      " 'roast' 'roasted' 'roll' 'rolls' 'room' 'rooms' 'rude' 'run' 'running'\n",
      " 'rush' 'sad' 'salad' 'salads' 'sales' 'salmon' 'salon' 'salsa' 'salt'\n",
      " 'salty' 'sandwich' 'sandwiches' 'santa' 'sat' 'satisfied' 'saturday'\n",
      " 'sauce' 'sauces' 'sausage' 'save' 'saw' 'saying' 'says' 'school'\n",
      " 'seafood' 'seasoned' 'seasoning' 'seat' 'seated' 'seating' 'seats'\n",
      " 'second' 'section' 'seeing' 'seen' 'selection' 'sell' 'sent' 'seriously'\n",
      " 'serve' 'served' 'server' 'servers' 'services' 'serving' 'set' 'share'\n",
      " 'shared' 'shop' 'shopping' 'short' 'shot' 'showed' 'shrimp' 'sides'\n",
      " 'sign' 'similar' 'simple' 'simply' 'single' 'sister' 'sit' 'sitting'\n",
      " 'situation' 'size' 'slice' 'slices' 'slightly' 'slow' 'smaller' 'smell'\n",
      " 'smile' 'smoked' 'soft' 'soggy' 'solid' 'son' 'soon' 'sorry' 'sort'\n",
      " 'soup' 'sour' 'south' 'space' 'speak' 'special' 'specials' 'spend'\n",
      " 'spent' 'spice' 'spicy' 'spinach' 'split' 'spoke' 'spot' 'spots' 'spring'\n",
      " 'st' 'stand' 'standard' 'standing' 'star' 'start' 'started' 'state'\n",
      " 'stay' 'stayed' 'staying' 'steak' 'stick' 'stop' 'stopped' 'store'\n",
      " 'straight' 'street' 'strong' 'stuff' 'stuffed' 'style' 'sugar' 'suggest'\n",
      " 'summer' 'sunday' 'supposed' 'surprise' 'surprised' 'sushi' 'sweet'\n",
      " 'table' 'tables' 'taco' 'tacos' 'taken' 'takeout' 'takes' 'taking' 'talk'\n",
      " 'talking' 'tampa' 'tap' 'taste' 'tasted' 'tastes' 'tasting' 'tasty' 'tea'\n",
      " 'team' 'tender' 'terrible' 'texture' 'thai' 'thank' 'thanks' 'thinking'\n",
      " 'tiny' 'tip' 'toast' 'today' 'tofu' 'tomato' 'tomatoes' 'tonight'\n",
      " 'topped' 'toppings' 'total' 'totally' 'touch' 'tough' 'tour' 'town'\n",
      " 'traditional' 'treat' 'treated' 'trip' 'truck' 'true' 'truly' 'trying'\n",
      " 'tucson' 'tuna' 'turkey' 'turn' 'turned' 'tv' 'twice' 'type' 'typical'\n",
      " 'understand' 'unfortunately' 'unique' 'unless' 'upstairs' 'using' 'usual'\n",
      " 'usually' 'value' 'variety' 'vegan' 'vegetables' 'vegetarian' 'veggie'\n",
      " 'veggies' 'vehicle' 'vibe' 'view' 'visited' 'visiting' 'waited' 'waiter'\n",
      " 'waiting' 'waitress' 'walk' 'walked' 'walking' 'wall' 'warm' 'waste'\n",
      " 'watch' 'watching' 'water' 'website' 'wedding' 'week' 'weekend' 'weeks'\n",
      " 'weird' 'welcome' 'welcoming' 'weren' 'white' 'wife' 'window' 'wine'\n",
      " 'wings' 'wish' 'woman' 'wonderful' 'word' 'worked' 'workers' 'working'\n",
      " 'works' 'world' 'worse' 'worst' 'wouldn' 'wow' 'write' 'wrong' 'xc3'\n",
      " 'year' 'yelp' 'yes' 'yesterday' 'young' 'yum' 'yummy']\n"
     ]
    }
   ],
   "source": [
    "import sklearn.feature_extraction.text as sk_text\n",
    "\n",
    "# min_df=2 ignore terms that appear in fewer than 2 documents\n",
    "# max_df=0.8 ignore terms that appear in more than 80% of documents \n",
    "vectorizer = sk_text.TfidfVectorizer(stop_words = 'english', max_features = 1000, min_df=2, max_df=0.8)\n",
    "\n",
    "matrix = vectorizer.fit_transform(df_merge['all_reviews'])\n",
    "print(type(matrix))\n",
    "\n",
    "tf_data = matrix.toarray()\n",
    "pd.set_option('display.max_colwidth', None)\n",
    "print(tf_data)\n",
    "print(vectorizer.get_feature_names_out())"
   ]
  },
  {
   "cell_type": "markdown",
   "id": "67ac4347",
   "metadata": {},
   "source": [
    "## Train/test split"
   ]
  },
  {
   "cell_type": "code",
   "execution_count": 11,
   "id": "dc17c2ca",
   "metadata": {},
   "outputs": [],
   "source": [
    "import tensorflow as tf\n",
    "import keras\n",
    "from sklearn.model_selection import train_test_split\n",
    "from keras.models import Sequential\n",
    "from keras.layers import Dense, Activation\n",
    "from keras.callbacks import EarlyStopping\n",
    "from keras.callbacks import ModelCheckpoint"
   ]
  },
  {
   "cell_type": "code",
   "execution_count": 12,
   "id": "4848a584",
   "metadata": {},
   "outputs": [],
   "source": [
    "y = df_merge['stars'] # Assigning 'star' to y"
   ]
  },
  {
   "cell_type": "code",
   "execution_count": 13,
   "id": "d3395f09",
   "metadata": {},
   "outputs": [
    {
     "data": {
      "text/plain": [
       "(61919,)"
      ]
     },
     "execution_count": 13,
     "metadata": {},
     "output_type": "execute_result"
    }
   ],
   "source": [
    "y.shape"
   ]
  },
  {
   "cell_type": "code",
   "execution_count": 14,
   "id": "28a78576",
   "metadata": {},
   "outputs": [
    {
     "data": {
      "text/plain": [
       "(61919, 1000)"
      ]
     },
     "execution_count": 14,
     "metadata": {},
     "output_type": "execute_result"
    }
   ],
   "source": [
    "tf_data.shape"
   ]
  },
  {
   "cell_type": "code",
   "execution_count": 15,
   "id": "1dabf400",
   "metadata": {},
   "outputs": [
    {
     "data": {
      "text/plain": [
       "(61919, 1001)"
      ]
     },
     "execution_count": 15,
     "metadata": {},
     "output_type": "execute_result"
    }
   ],
   "source": [
    "review_arr = df_merge['review_count'].values\n",
    "review_arr.shape\n",
    "concat_rev = np.vstack(review_arr) # converts the 1D array into a shape suitable for concatenation\n",
    "x = np.concatenate((tf_data, concat_rev), axis=1) # Creates a single feature matrix 'x' using tf-idf data\n",
    "x.shape"
   ]
  },
  {
   "cell_type": "code",
   "execution_count": 16,
   "id": "b0f3d520",
   "metadata": {},
   "outputs": [
    {
     "name": "stdout",
     "output_type": "stream",
     "text": [
      "(46439, 1001)\n",
      "(46439,)\n",
      "(15480, 1001)\n",
      "(15480,)\n"
     ]
    }
   ],
   "source": [
    "# Splitting data into training and testing sets\n",
    "x_train, x_test, y_train, y_test = train_test_split(x,y, test_size=0.25, random_state=77)\n",
    "\n",
    "# Printing the shapes of the training and test sets to confirm the split\n",
    "print(x_train.shape)\n",
    "print(y_train.shape)\n",
    "print(x_test.shape)\n",
    "print(y_test.shape)\n",
    "\n",
    "# Creating an array copy of the test target values \n",
    "y_test_copy = y_test"
   ]
  },
  {
   "cell_type": "markdown",
   "id": "abb654b6",
   "metadata": {},
   "source": [
    "## Experimenting different models (Relu, sigmoid, tanh) \n",
    "### Relu model with 'adam' optimizer"
   ]
  },
  {
   "cell_type": "code",
   "execution_count": 16,
   "id": "f6395097",
   "metadata": {},
   "outputs": [
    {
     "name": "stdout",
     "output_type": "stream",
     "text": [
      "\n",
      "Run:  1\n"
     ]
    },
    {
     "name": "stderr",
     "output_type": "stream",
     "text": [
      "/Users/yahir/anaconda3/envs/testenv/lib/python3.12/site-packages/keras/src/layers/core/dense.py:87: UserWarning: Do not pass an `input_shape`/`input_dim` argument to a layer. When using Sequential models, prefer using an `Input(shape)` object as the first layer in the model instead.\n",
      "  super().__init__(activity_regularizer=activity_regularizer, **kwargs)\n"
     ]
    },
    {
     "name": "stdout",
     "output_type": "stream",
     "text": [
      "Epoch 1/1000\n",
      "1452/1452 - 1s - 990us/step - loss: 1.4483 - val_loss: 0.2379\n",
      "Epoch 2/1000\n",
      "1452/1452 - 1s - 595us/step - loss: 0.2270 - val_loss: 0.1506\n",
      "Epoch 3/1000\n",
      "1452/1452 - 1s - 638us/step - loss: 0.2495 - val_loss: 0.1313\n",
      "Epoch 4/1000\n",
      "1452/1452 - 1s - 584us/step - loss: 0.4342 - val_loss: 0.1349\n",
      "Epoch 5/1000\n",
      "1452/1452 - 1s - 583us/step - loss: 0.1330 - val_loss: 0.1533\n",
      "Epoch 6/1000\n",
      "1452/1452 - 1s - 582us/step - loss: 0.1118 - val_loss: 0.5292\n",
      "Epoch 6: early stopping\n",
      "\n",
      "Run:  2\n",
      "Epoch 1/1000\n"
     ]
    },
    {
     "name": "stderr",
     "output_type": "stream",
     "text": [
      "/Users/yahir/anaconda3/envs/testenv/lib/python3.12/site-packages/keras/src/layers/core/dense.py:87: UserWarning: Do not pass an `input_shape`/`input_dim` argument to a layer. When using Sequential models, prefer using an `Input(shape)` object as the first layer in the model instead.\n",
      "  super().__init__(activity_regularizer=activity_regularizer, **kwargs)\n"
     ]
    },
    {
     "name": "stdout",
     "output_type": "stream",
     "text": [
      "1452/1452 - 1s - 944us/step - loss: 1.9025 - val_loss: 2.7884\n",
      "Epoch 2/1000\n",
      "1452/1452 - 1s - 589us/step - loss: 0.2582 - val_loss: 0.1498\n",
      "Epoch 3/1000\n",
      "1452/1452 - 1s - 599us/step - loss: 0.3954 - val_loss: 0.1681\n",
      "Epoch 4/1000\n",
      "1452/1452 - 1s - 601us/step - loss: 0.1461 - val_loss: 0.1243\n",
      "Epoch 5/1000\n",
      "1452/1452 - 1s - 583us/step - loss: 0.1349 - val_loss: 0.1269\n",
      "Epoch 6/1000\n",
      "1452/1452 - 1s - 619us/step - loss: 0.1949 - val_loss: 0.1069\n",
      "Epoch 7/1000\n",
      "1452/1452 - 1s - 583us/step - loss: 0.1221 - val_loss: 0.0993\n",
      "Epoch 8/1000\n",
      "1452/1452 - 1s - 611us/step - loss: 0.1171 - val_loss: 0.0959\n",
      "Epoch 9/1000\n",
      "1452/1452 - 1s - 617us/step - loss: 0.1275 - val_loss: 0.1037\n",
      "Epoch 10/1000\n",
      "1452/1452 - 1s - 587us/step - loss: 0.0976 - val_loss: 0.0971\n",
      "Epoch 11/1000\n",
      "1452/1452 - 1s - 594us/step - loss: 0.1023 - val_loss: 0.0883\n",
      "Epoch 12/1000\n",
      "1452/1452 - 1s - 599us/step - loss: 0.1039 - val_loss: 0.0832\n",
      "Epoch 13/1000\n",
      "1452/1452 - 1s - 583us/step - loss: 0.1013 - val_loss: 0.0901\n",
      "Epoch 14/1000\n",
      "1452/1452 - 1s - 607us/step - loss: 0.0928 - val_loss: 0.0822\n",
      "Epoch 15/1000\n",
      "1452/1452 - 1s - 661us/step - loss: 0.0881 - val_loss: 0.1183\n",
      "Epoch 16/1000\n",
      "1452/1452 - 1s - 582us/step - loss: 0.0935 - val_loss: 0.0839\n",
      "Epoch 17/1000\n",
      "1452/1452 - 1s - 585us/step - loss: 0.0797 - val_loss: 0.0799\n",
      "Epoch 18/1000\n",
      "1452/1452 - 1s - 582us/step - loss: 0.1629 - val_loss: 0.0985\n",
      "Epoch 19/1000\n",
      "1452/1452 - 1s - 605us/step - loss: 0.0820 - val_loss: 0.0791\n",
      "Epoch 20/1000\n",
      "1452/1452 - 1s - 582us/step - loss: 0.0778 - val_loss: 0.0797\n",
      "Epoch 21/1000\n",
      "1452/1452 - 1s - 581us/step - loss: 0.0819 - val_loss: 0.0890\n",
      "Epoch 22/1000\n",
      "1452/1452 - 1s - 583us/step - loss: 0.0840 - val_loss: 0.0923\n",
      "Epoch 22: early stopping\n",
      "\n",
      "Run:  3\n",
      "Epoch 1/1000\n"
     ]
    },
    {
     "name": "stderr",
     "output_type": "stream",
     "text": [
      "/Users/yahir/anaconda3/envs/testenv/lib/python3.12/site-packages/keras/src/layers/core/dense.py:87: UserWarning: Do not pass an `input_shape`/`input_dim` argument to a layer. When using Sequential models, prefer using an `Input(shape)` object as the first layer in the model instead.\n",
      "  super().__init__(activity_regularizer=activity_regularizer, **kwargs)\n"
     ]
    },
    {
     "name": "stdout",
     "output_type": "stream",
     "text": [
      "1452/1452 - 1s - 960us/step - loss: 3.5374 - val_loss: 0.6449\n",
      "Epoch 2/1000\n",
      "1452/1452 - 1s - 585us/step - loss: 0.2837 - val_loss: 0.2134\n",
      "Epoch 3/1000\n",
      "1452/1452 - 1s - 581us/step - loss: 0.2182 - val_loss: 0.1423\n",
      "Epoch 4/1000\n",
      "1452/1452 - 1s - 582us/step - loss: 0.1982 - val_loss: 0.1348\n",
      "Epoch 5/1000\n",
      "1452/1452 - 1s - 588us/step - loss: 0.4142 - val_loss: 0.1375\n",
      "Epoch 6/1000\n",
      "1452/1452 - 1s - 649us/step - loss: 0.1228 - val_loss: 0.1134\n",
      "Epoch 7/1000\n",
      "1452/1452 - 1s - 582us/step - loss: 0.1148 - val_loss: 0.1050\n",
      "Epoch 8/1000\n",
      "1452/1452 - 1s - 581us/step - loss: 0.1305 - val_loss: 0.1008\n",
      "Epoch 9/1000\n",
      "1452/1452 - 1s - 581us/step - loss: 0.1204 - val_loss: 0.1401\n",
      "Epoch 10/1000\n",
      "1452/1452 - 1s - 607us/step - loss: 0.1323 - val_loss: 0.1028\n",
      "Epoch 11/1000\n",
      "1452/1452 - 1s - 579us/step - loss: 0.1206 - val_loss: 0.1012\n",
      "Epoch 11: early stopping\n"
     ]
    }
   ],
   "source": [
    "# Save models into path dir\n",
    "saved_path = './Prj1Models/'\n",
    "checkpointer = ModelCheckpoint(filepath=os.path.join(saved_path, \"relu_adam_model.keras\"), \n",
    "                               verbose=0, save_best_only=True)\n",
    "\n",
    "# Run for 3 times\n",
    "for i in range(3):\n",
    "    print('\\nRun: ', i + 1)\n",
    "    \n",
    "    relu_model = Sequential()\n",
    "    relu_model.add(Dense(25, input_dim=x.shape[1], activation='relu'))\n",
    "    relu_model.add(Dense(10, activation='relu'))\n",
    "    relu_model.add(Dense(1))\n",
    "\n",
    "    relu_model.compile(loss='mean_squared_error', optimizer='adam')\n",
    "\n",
    "    # Stops when model stops improving\n",
    "    monitor = EarlyStopping(monitor='val_loss', min_delta=1e-4, patience=3, verbose=1, mode='auto')\n",
    "    relu_model.fit(x_train, y_train, validation_data=(x_test, y_test), \n",
    "                   callbacks=[monitor, checkpointer], verbose=2, epochs=1000)"
   ]
  },
  {
   "cell_type": "markdown",
   "id": "c534f7d7",
   "metadata": {},
   "source": [
    "### Relu model with 'sgd' optimizer. Added layers and increased neuron count"
   ]
  },
  {
   "cell_type": "code",
   "execution_count": 17,
   "id": "ebb2c459",
   "metadata": {},
   "outputs": [
    {
     "name": "stdout",
     "output_type": "stream",
     "text": [
      "\n",
      "Run:  1\n",
      "Epoch 1/1000\n"
     ]
    },
    {
     "name": "stderr",
     "output_type": "stream",
     "text": [
      "/Users/yahir/anaconda3/envs/testenv/lib/python3.12/site-packages/keras/src/layers/core/dense.py:87: UserWarning: Do not pass an `input_shape`/`input_dim` argument to a layer. When using Sequential models, prefer using an `Input(shape)` object as the first layer in the model instead.\n",
      "  super().__init__(activity_regularizer=activity_regularizer, **kwargs)\n"
     ]
    },
    {
     "name": "stdout",
     "output_type": "stream",
     "text": [
      "1452/1452 - 1s - 874us/step - loss: 927400074412032.0000 - val_loss: 0.7039\n",
      "Epoch 2/1000\n",
      "1452/1452 - 1s - 638us/step - loss: 0.7084 - val_loss: 0.7041\n",
      "Epoch 3/1000\n",
      "1452/1452 - 1s - 644us/step - loss: 0.7084 - val_loss: 0.7040\n",
      "Epoch 4/1000\n",
      "1452/1452 - 1s - 640us/step - loss: 0.7084 - val_loss: 0.7040\n",
      "Epoch 4: early stopping\n",
      "\n",
      "Run:  2\n",
      "Epoch 1/1000\n"
     ]
    },
    {
     "name": "stderr",
     "output_type": "stream",
     "text": [
      "/Users/yahir/anaconda3/envs/testenv/lib/python3.12/site-packages/keras/src/layers/core/dense.py:87: UserWarning: Do not pass an `input_shape`/`input_dim` argument to a layer. When using Sequential models, prefer using an `Input(shape)` object as the first layer in the model instead.\n",
      "  super().__init__(activity_regularizer=activity_regularizer, **kwargs)\n"
     ]
    },
    {
     "name": "stdout",
     "output_type": "stream",
     "text": [
      "1452/1452 - 1s - 794us/step - loss: nan - val_loss: nan\n",
      "Epoch 2/1000\n",
      "1452/1452 - 1s - 644us/step - loss: nan - val_loss: nan\n",
      "Epoch 3/1000\n",
      "1452/1452 - 1s - 642us/step - loss: nan - val_loss: nan\n",
      "Epoch 3: early stopping\n",
      "\n",
      "Run:  3\n",
      "Epoch 1/1000\n"
     ]
    },
    {
     "name": "stderr",
     "output_type": "stream",
     "text": [
      "/Users/yahir/anaconda3/envs/testenv/lib/python3.12/site-packages/keras/src/layers/core/dense.py:87: UserWarning: Do not pass an `input_shape`/`input_dim` argument to a layer. When using Sequential models, prefer using an `Input(shape)` object as the first layer in the model instead.\n",
      "  super().__init__(activity_regularizer=activity_regularizer, **kwargs)\n"
     ]
    },
    {
     "name": "stdout",
     "output_type": "stream",
     "text": [
      "1452/1452 - 1s - 794us/step - loss: nan - val_loss: nan\n",
      "Epoch 2/1000\n",
      "1452/1452 - 1s - 649us/step - loss: nan - val_loss: nan\n",
      "Epoch 3/1000\n",
      "1452/1452 - 1s - 628us/step - loss: nan - val_loss: nan\n",
      "Epoch 3: early stopping\n"
     ]
    }
   ],
   "source": [
    "saved_path = './Prj1Models/'\n",
    "checkpointer = ModelCheckpoint(filepath=os.path.join(saved_path, \"relu_sgd_model.keras\"), \n",
    "                               verbose=0, save_best_only=True)\n",
    "\n",
    "for i in range(3):\n",
    "    print('\\nRun: ', i + 1)\n",
    "    \n",
    "    relu_modelv2 = Sequential()\n",
    "\n",
    "    relu_modelv2.add(Dense(50, input_dim=x.shape[1], activation='relu')) # increased neurons 50\n",
    "    relu_modelv2.add(Dense(25, activation='relu')) # new layer\n",
    "    relu_modelv2.add(Dense(25, activation='relu')) # new layer\n",
    "    relu_modelv2.add(Dense(10, activation='relu'))\n",
    "    relu_modelv2.add(Dense(1))\n",
    "\n",
    "    relu_modelv2.compile(loss='mean_squared_error', optimizer='sgd') # Activation set sgd\n",
    "\n",
    "    monitor = EarlyStopping(monitor='val_loss', min_delta=1e-4, patience=3, verbose=1, mode='auto')\n",
    "\n",
    "    relu_modelv2.fit(x_train, y_train, validation_data=(x_test, y_test), \n",
    "                   callbacks=[monitor, checkpointer], verbose=2, epochs=1000)"
   ]
  },
  {
   "cell_type": "markdown",
   "id": "1500d714",
   "metadata": {},
   "source": [
    "### Sigmoid model with 'adam' optimizer"
   ]
  },
  {
   "cell_type": "code",
   "execution_count": 18,
   "id": "cda5fca8",
   "metadata": {},
   "outputs": [
    {
     "name": "stdout",
     "output_type": "stream",
     "text": [
      "\n",
      "Run:  1\n",
      "Epoch 1/1000\n"
     ]
    },
    {
     "name": "stderr",
     "output_type": "stream",
     "text": [
      "/Users/yahir/anaconda3/envs/testenv/lib/python3.12/site-packages/keras/src/layers/core/dense.py:87: UserWarning: Do not pass an `input_shape`/`input_dim` argument to a layer. When using Sequential models, prefer using an `Input(shape)` object as the first layer in the model instead.\n",
      "  super().__init__(activity_regularizer=activity_regularizer, **kwargs)\n"
     ]
    },
    {
     "name": "stdout",
     "output_type": "stream",
     "text": [
      "1452/1452 - 1s - 958us/step - loss: 1.2632 - val_loss: 0.5724\n",
      "Epoch 2/1000\n",
      "1452/1452 - 1s - 592us/step - loss: 0.2072 - val_loss: 0.1098\n",
      "Epoch 3/1000\n",
      "1452/1452 - 1s - 638us/step - loss: 0.1012 - val_loss: 0.1057\n",
      "Epoch 4/1000\n",
      "1452/1452 - 1s - 596us/step - loss: 0.0908 - val_loss: 0.0865\n",
      "Epoch 5/1000\n",
      "1452/1452 - 1s - 586us/step - loss: 0.0853 - val_loss: 0.0882\n",
      "Epoch 6/1000\n",
      "1452/1452 - 1s - 592us/step - loss: 0.0825 - val_loss: 0.0810\n",
      "Epoch 7/1000\n",
      "1452/1452 - 1s - 591us/step - loss: 0.0810 - val_loss: 0.0797\n",
      "Epoch 8/1000\n",
      "1452/1452 - 1s - 585us/step - loss: 0.0798 - val_loss: 0.0802\n",
      "Epoch 9/1000\n",
      "1452/1452 - 1s - 584us/step - loss: 0.0777 - val_loss: 0.0824\n",
      "Epoch 10/1000\n",
      "1452/1452 - 1s - 588us/step - loss: 0.0771 - val_loss: 0.0790\n",
      "Epoch 11/1000\n",
      "1452/1452 - 1s - 592us/step - loss: 0.0760 - val_loss: 0.0780\n",
      "Epoch 12/1000\n",
      "1452/1452 - 1s - 586us/step - loss: 0.0762 - val_loss: 0.0793\n",
      "Epoch 13/1000\n",
      "1452/1452 - 1s - 594us/step - loss: 0.0746 - val_loss: 0.0760\n",
      "Epoch 14/1000\n",
      "1452/1452 - 1s - 584us/step - loss: 0.0741 - val_loss: 0.0853\n",
      "Epoch 15/1000\n",
      "1452/1452 - 1s - 593us/step - loss: 0.0733 - val_loss: 0.0755\n",
      "Epoch 16/1000\n",
      "1452/1452 - 1s - 585us/step - loss: 0.0727 - val_loss: 0.0757\n",
      "Epoch 17/1000\n",
      "1452/1452 - 1s - 586us/step - loss: 0.0735 - val_loss: 0.0761\n",
      "Epoch 18/1000\n",
      "1452/1452 - 1s - 590us/step - loss: 0.0719 - val_loss: 0.0750\n",
      "Epoch 19/1000\n",
      "1452/1452 - 1s - 584us/step - loss: 0.0712 - val_loss: 0.0766\n",
      "Epoch 20/1000\n",
      "1452/1452 - 1s - 583us/step - loss: 0.0705 - val_loss: 0.0784\n",
      "Epoch 21/1000\n",
      "1452/1452 - 1s - 582us/step - loss: 0.0705 - val_loss: 0.0757\n",
      "Epoch 21: early stopping\n",
      "\n",
      "Run:  2\n",
      "Epoch 1/1000\n"
     ]
    },
    {
     "name": "stderr",
     "output_type": "stream",
     "text": [
      "/Users/yahir/anaconda3/envs/testenv/lib/python3.12/site-packages/keras/src/layers/core/dense.py:87: UserWarning: Do not pass an `input_shape`/`input_dim` argument to a layer. When using Sequential models, prefer using an `Input(shape)` object as the first layer in the model instead.\n",
      "  super().__init__(activity_regularizer=activity_regularizer, **kwargs)\n"
     ]
    },
    {
     "name": "stdout",
     "output_type": "stream",
     "text": [
      "1452/1452 - 1s - 1ms/step - loss: 1.0181 - val_loss: 0.2159\n",
      "Epoch 2/1000\n",
      "1452/1452 - 1s - 587us/step - loss: 0.1338 - val_loss: 0.1007\n",
      "Epoch 3/1000\n",
      "1452/1452 - 1s - 584us/step - loss: 0.0961 - val_loss: 0.0935\n",
      "Epoch 4/1000\n",
      "1452/1452 - 1s - 587us/step - loss: 0.0877 - val_loss: 0.0880\n",
      "Epoch 5/1000\n",
      "1452/1452 - 1s - 586us/step - loss: 0.0835 - val_loss: 0.0808\n",
      "Epoch 6/1000\n",
      "1452/1452 - 1s - 584us/step - loss: 0.0810 - val_loss: 0.0861\n",
      "Epoch 7/1000\n",
      "1452/1452 - 1s - 585us/step - loss: 0.0802 - val_loss: 0.0781\n",
      "Epoch 8/1000\n",
      "1452/1452 - 1s - 586us/step - loss: 0.0781 - val_loss: 0.0828\n",
      "Epoch 9/1000\n",
      "1452/1452 - 1s - 588us/step - loss: 0.0764 - val_loss: 0.0772\n",
      "Epoch 10/1000\n",
      "1452/1452 - 1s - 586us/step - loss: 0.0752 - val_loss: 0.0772\n",
      "Epoch 11/1000\n",
      "1452/1452 - 1s - 584us/step - loss: 0.0742 - val_loss: 0.0796\n",
      "Epoch 12/1000\n",
      "1452/1452 - 1s - 585us/step - loss: 0.0738 - val_loss: 0.0755\n",
      "Epoch 13/1000\n",
      "1452/1452 - 1s - 584us/step - loss: 0.0727 - val_loss: 0.0765\n",
      "Epoch 14/1000\n",
      "1452/1452 - 1s - 583us/step - loss: 0.0732 - val_loss: 0.0759\n",
      "Epoch 15/1000\n",
      "1452/1452 - 1s - 586us/step - loss: 0.0728 - val_loss: 0.0755\n",
      "Epoch 15: early stopping\n",
      "\n",
      "Run:  3\n",
      "Epoch 1/1000\n"
     ]
    },
    {
     "name": "stderr",
     "output_type": "stream",
     "text": [
      "/Users/yahir/anaconda3/envs/testenv/lib/python3.12/site-packages/keras/src/layers/core/dense.py:87: UserWarning: Do not pass an `input_shape`/`input_dim` argument to a layer. When using Sequential models, prefer using an `Input(shape)` object as the first layer in the model instead.\n",
      "  super().__init__(activity_regularizer=activity_regularizer, **kwargs)\n"
     ]
    },
    {
     "name": "stdout",
     "output_type": "stream",
     "text": [
      "1452/1452 - 1s - 942us/step - loss: 1.1269 - val_loss: 0.3210\n",
      "Epoch 2/1000\n",
      "1452/1452 - 1s - 584us/step - loss: 0.1561 - val_loss: 0.1153\n",
      "Epoch 3/1000\n",
      "1452/1452 - 1s - 620us/step - loss: 0.0982 - val_loss: 0.0988\n",
      "Epoch 4/1000\n",
      "1452/1452 - 1s - 582us/step - loss: 0.0893 - val_loss: 0.0891\n",
      "Epoch 5/1000\n",
      "1452/1452 - 1s - 583us/step - loss: 0.0848 - val_loss: 0.0827\n",
      "Epoch 6/1000\n",
      "1452/1452 - 1s - 582us/step - loss: 0.0822 - val_loss: 0.0838\n",
      "Epoch 7/1000\n",
      "1452/1452 - 1s - 582us/step - loss: 0.0811 - val_loss: 0.0802\n",
      "Epoch 8/1000\n",
      "1452/1452 - 1s - 582us/step - loss: 0.0786 - val_loss: 0.0795\n",
      "Epoch 9/1000\n",
      "1452/1452 - 1s - 583us/step - loss: 0.0773 - val_loss: 0.0784\n",
      "Epoch 10/1000\n",
      "1452/1452 - 1s - 583us/step - loss: 0.0763 - val_loss: 0.0774\n",
      "Epoch 11/1000\n",
      "1452/1452 - 1s - 584us/step - loss: 0.0754 - val_loss: 0.0770\n",
      "Epoch 12/1000\n",
      "1452/1452 - 1s - 583us/step - loss: 0.0751 - val_loss: 0.0770\n",
      "Epoch 13/1000\n",
      "1452/1452 - 1s - 582us/step - loss: 0.0746 - val_loss: 0.0769\n",
      "Epoch 14/1000\n",
      "1452/1452 - 1s - 583us/step - loss: 0.0740 - val_loss: 0.0773\n",
      "Epoch 14: early stopping\n"
     ]
    }
   ],
   "source": [
    "saved_path = './Prj1Models/'\n",
    "checkpointer = ModelCheckpoint(filepath=os.path.join(saved_path, \"sigmoid_adam_model.keras\"), \n",
    "                               verbose=0, save_best_only=True)\n",
    "\n",
    "for i in range(3):\n",
    "    print('\\nRun: ', i + 1)\n",
    "    \n",
    "    sig_model = Sequential()\n",
    "    sig_model.add(Dense(25, input_dim=x.shape[1], activation='sigmoid'))\n",
    "    sig_model.add(Dense(10, activation='sigmoid'))\n",
    "    sig_model.add(Dense(1))\n",
    "\n",
    "    sig_model.compile(loss='mean_squared_error', optimizer='adam')\n",
    "\n",
    "    monitor = EarlyStopping(monitor='val_loss', min_delta=1e-4, patience=3, verbose=1, mode='auto')\n",
    "\n",
    "    sig_model.fit(x_train, y_train, validation_data=(x_test, y_test), \n",
    "                   callbacks=[monitor, checkpointer], verbose=2, epochs=1000)"
   ]
  },
  {
   "cell_type": "markdown",
   "id": "96aa88ff",
   "metadata": {},
   "source": [
    "### Sigmoid model with 'sgd' optimizer. Added layers and increased neuron count"
   ]
  },
  {
   "cell_type": "code",
   "execution_count": 19,
   "id": "79f41363",
   "metadata": {},
   "outputs": [
    {
     "name": "stdout",
     "output_type": "stream",
     "text": [
      "\n",
      "Run:  1\n",
      "Epoch 1/1000\n"
     ]
    },
    {
     "name": "stderr",
     "output_type": "stream",
     "text": [
      "/Users/yahir/anaconda3/envs/testenv/lib/python3.12/site-packages/keras/src/layers/core/dense.py:87: UserWarning: Do not pass an `input_shape`/`input_dim` argument to a layer. When using Sequential models, prefer using an `Input(shape)` object as the first layer in the model instead.\n",
      "  super().__init__(activity_regularizer=activity_regularizer, **kwargs)\n"
     ]
    },
    {
     "name": "stdout",
     "output_type": "stream",
     "text": [
      "1452/1452 - 1s - 803us/step - loss: 0.7653 - val_loss: 0.7098\n",
      "Epoch 2/1000\n",
      "1452/1452 - 1s - 639us/step - loss: 0.7080 - val_loss: 0.7043\n",
      "Epoch 3/1000\n",
      "1452/1452 - 1s - 716us/step - loss: 0.7071 - val_loss: 0.7013\n",
      "Epoch 4/1000\n",
      "1452/1452 - 1s - 636us/step - loss: 0.7070 - val_loss: 0.7006\n",
      "Epoch 5/1000\n",
      "1452/1452 - 1s - 635us/step - loss: 0.7061 - val_loss: 0.6999\n",
      "Epoch 6/1000\n",
      "1452/1452 - 1s - 627us/step - loss: 0.7053 - val_loss: 0.7078\n",
      "Epoch 7/1000\n",
      "1452/1452 - 1s - 634us/step - loss: 0.7043 - val_loss: 0.6981\n",
      "Epoch 8/1000\n",
      "1452/1452 - 1s - 636us/step - loss: 0.7033 - val_loss: 0.6974\n",
      "Epoch 9/1000\n",
      "1452/1452 - 1s - 636us/step - loss: 0.7019 - val_loss: 0.6958\n",
      "Epoch 10/1000\n",
      "1452/1452 - 1s - 628us/step - loss: 0.7011 - val_loss: 0.7109\n",
      "Epoch 11/1000\n",
      "1452/1452 - 1s - 624us/step - loss: 0.6997 - val_loss: 0.7001\n",
      "Epoch 12/1000\n",
      "1452/1452 - 1s - 637us/step - loss: 0.6987 - val_loss: 0.6921\n",
      "Epoch 13/1000\n",
      "1452/1452 - 1s - 631us/step - loss: 0.6974 - val_loss: 0.6932\n",
      "Epoch 14/1000\n",
      "1452/1452 - 1s - 635us/step - loss: 0.6966 - val_loss: 0.6898\n",
      "Epoch 15/1000\n",
      "1452/1452 - 1s - 628us/step - loss: 0.6954 - val_loss: 0.6905\n",
      "Epoch 16/1000\n",
      "1452/1452 - 1s - 624us/step - loss: 0.6949 - val_loss: 0.7149\n",
      "Epoch 17/1000\n",
      "1452/1452 - 1s - 626us/step - loss: 0.6943 - val_loss: 0.7216\n",
      "Epoch 17: early stopping\n",
      "\n",
      "Run:  2\n",
      "Epoch 1/1000\n"
     ]
    },
    {
     "name": "stderr",
     "output_type": "stream",
     "text": [
      "/Users/yahir/anaconda3/envs/testenv/lib/python3.12/site-packages/keras/src/layers/core/dense.py:87: UserWarning: Do not pass an `input_shape`/`input_dim` argument to a layer. When using Sequential models, prefer using an `Input(shape)` object as the first layer in the model instead.\n",
      "  super().__init__(activity_regularizer=activity_regularizer, **kwargs)\n"
     ]
    },
    {
     "name": "stdout",
     "output_type": "stream",
     "text": [
      "1452/1452 - 1s - 788us/step - loss: 0.7300 - val_loss: 0.7015\n",
      "Epoch 2/1000\n",
      "1452/1452 - 1s - 625us/step - loss: 0.7061 - val_loss: 0.7015\n",
      "Epoch 3/1000\n",
      "1452/1452 - 1s - 663us/step - loss: 0.7048 - val_loss: 0.7000\n",
      "Epoch 4/1000\n",
      "1452/1452 - 1s - 628us/step - loss: 0.7036 - val_loss: 0.6985\n",
      "Epoch 5/1000\n",
      "1452/1452 - 1s - 628us/step - loss: 0.7019 - val_loss: 0.6967\n",
      "Epoch 6/1000\n",
      "1452/1452 - 1s - 624us/step - loss: 0.7006 - val_loss: 0.6940\n",
      "Epoch 7/1000\n",
      "1452/1452 - 1s - 624us/step - loss: 0.6990 - val_loss: 0.6990\n",
      "Epoch 8/1000\n",
      "1452/1452 - 1s - 626us/step - loss: 0.6978 - val_loss: 0.7104\n",
      "Epoch 9/1000\n",
      "1452/1452 - 1s - 628us/step - loss: 0.6969 - val_loss: 0.6909\n",
      "Epoch 10/1000\n",
      "1452/1452 - 1s - 628us/step - loss: 0.6957 - val_loss: 0.6888\n",
      "Epoch 11/1000\n",
      "1452/1452 - 1s - 626us/step - loss: 0.6951 - val_loss: 0.6937\n",
      "Epoch 12/1000\n",
      "1452/1452 - 1s - 625us/step - loss: 0.6948 - val_loss: 0.6987\n",
      "Epoch 13/1000\n",
      "1452/1452 - 1s - 633us/step - loss: 0.6942 - val_loss: 0.6870\n",
      "Epoch 14/1000\n",
      "1452/1452 - 1s - 626us/step - loss: 0.6936 - val_loss: 0.7039\n",
      "Epoch 15/1000\n",
      "1452/1452 - 1s - 634us/step - loss: 0.6931 - val_loss: 0.6865\n",
      "Epoch 16/1000\n",
      "1452/1452 - 1s - 624us/step - loss: 0.6926 - val_loss: 0.6878\n",
      "Epoch 17/1000\n",
      "1452/1452 - 1s - 627us/step - loss: 0.6919 - val_loss: 0.6848\n",
      "Epoch 18/1000\n",
      "1452/1452 - 1s - 625us/step - loss: 0.6911 - val_loss: 0.7276\n",
      "Epoch 19/1000\n",
      "1452/1452 - 1s - 622us/step - loss: 0.6909 - val_loss: 0.6931\n",
      "Epoch 20/1000\n",
      "1452/1452 - 1s - 656us/step - loss: 0.6896 - val_loss: 0.6831\n",
      "Epoch 21/1000\n",
      "1452/1452 - 1s - 604us/step - loss: 0.6889 - val_loss: 0.6850\n",
      "Epoch 22/1000\n",
      "1452/1452 - 1s - 619us/step - loss: 0.6873 - val_loss: 0.7006\n",
      "Epoch 23/1000\n",
      "1452/1452 - 1s - 623us/step - loss: 0.6859 - val_loss: 0.6923\n",
      "Epoch 23: early stopping\n",
      "\n",
      "Run:  3\n",
      "Epoch 1/1000\n"
     ]
    },
    {
     "name": "stderr",
     "output_type": "stream",
     "text": [
      "/Users/yahir/anaconda3/envs/testenv/lib/python3.12/site-packages/keras/src/layers/core/dense.py:87: UserWarning: Do not pass an `input_shape`/`input_dim` argument to a layer. When using Sequential models, prefer using an `Input(shape)` object as the first layer in the model instead.\n",
      "  super().__init__(activity_regularizer=activity_regularizer, **kwargs)\n"
     ]
    },
    {
     "name": "stdout",
     "output_type": "stream",
     "text": [
      "1452/1452 - 1s - 780us/step - loss: 0.7432 - val_loss: 0.7007\n",
      "Epoch 2/1000\n",
      "1452/1452 - 1s - 622us/step - loss: 0.7055 - val_loss: 0.6998\n",
      "Epoch 3/1000\n",
      "1452/1452 - 1s - 625us/step - loss: 0.7046 - val_loss: 0.7000\n",
      "Epoch 4/1000\n",
      "1452/1452 - 1s - 632us/step - loss: 0.7038 - val_loss: 0.6995\n",
      "Epoch 5/1000\n",
      "1452/1452 - 1s - 628us/step - loss: 0.7024 - val_loss: 0.6967\n",
      "Epoch 6/1000\n",
      "1452/1452 - 1s - 627us/step - loss: 0.7014 - val_loss: 0.6965\n",
      "Epoch 7/1000\n",
      "1452/1452 - 1s - 626us/step - loss: 0.7005 - val_loss: 0.6962\n",
      "Epoch 8/1000\n",
      "1452/1452 - 1s - 622us/step - loss: 0.6989 - val_loss: 0.7018\n",
      "Epoch 9/1000\n",
      "1452/1452 - 1s - 627us/step - loss: 0.6981 - val_loss: 0.7041\n",
      "Epoch 10/1000\n",
      "1452/1452 - 1s - 625us/step - loss: 0.6969 - val_loss: 0.6900\n",
      "Epoch 11/1000\n",
      "1452/1452 - 1s - 628us/step - loss: 0.6957 - val_loss: 0.6896\n",
      "Epoch 12/1000\n",
      "1452/1452 - 1s - 630us/step - loss: 0.6953 - val_loss: 0.6926\n",
      "Epoch 13/1000\n",
      "1452/1452 - 1s - 625us/step - loss: 0.6948 - val_loss: 0.6874\n",
      "Epoch 14/1000\n",
      "1452/1452 - 1s - 638us/step - loss: 0.6940 - val_loss: 0.6952\n",
      "Epoch 15/1000\n",
      "1452/1452 - 1s - 690us/step - loss: 0.6937 - val_loss: 0.6898\n",
      "Epoch 16/1000\n",
      "1452/1452 - 1s - 627us/step - loss: 0.6923 - val_loss: 0.6853\n",
      "Epoch 17/1000\n",
      "1452/1452 - 1s - 627us/step - loss: 0.6920 - val_loss: 0.6955\n",
      "Epoch 18/1000\n",
      "1452/1452 - 1s - 628us/step - loss: 0.6913 - val_loss: 0.6828\n",
      "Epoch 19/1000\n",
      "1452/1452 - 1s - 632us/step - loss: 0.6906 - val_loss: 0.6842\n",
      "Epoch 20/1000\n",
      "1452/1452 - 1s - 637us/step - loss: 0.6894 - val_loss: 0.6807\n",
      "Epoch 21/1000\n",
      "1452/1452 - 1s - 627us/step - loss: 0.6881 - val_loss: 0.7459\n",
      "Epoch 22/1000\n",
      "1452/1452 - 1s - 638us/step - loss: 0.6866 - val_loss: 0.6805\n",
      "Epoch 23/1000\n",
      "1452/1452 - 1s - 625us/step - loss: 0.6846 - val_loss: 0.6949\n",
      "Epoch 24/1000\n",
      "1452/1452 - 1s - 633us/step - loss: 0.6832 - val_loss: 0.6709\n",
      "Epoch 25/1000\n",
      "1452/1452 - 1s - 637us/step - loss: 0.6803 - val_loss: 0.6706\n",
      "Epoch 26/1000\n",
      "1452/1452 - 1s - 634us/step - loss: 0.6757 - val_loss: 0.6654\n",
      "Epoch 27/1000\n",
      "1452/1452 - 1s - 635us/step - loss: 0.6725 - val_loss: 0.6584\n",
      "Epoch 28/1000\n",
      "1452/1452 - 1s - 635us/step - loss: 0.6692 - val_loss: 0.6566\n",
      "Epoch 29/1000\n",
      "1452/1452 - 1s - 637us/step - loss: 0.6618 - val_loss: 0.6386\n",
      "Epoch 30/1000\n",
      "1452/1452 - 1s - 628us/step - loss: 0.6544 - val_loss: 0.7813\n",
      "Epoch 31/1000\n",
      "1452/1452 - 1s - 630us/step - loss: 0.6483 - val_loss: 0.6601\n",
      "Epoch 32/1000\n",
      "1452/1452 - 1s - 664us/step - loss: 0.6409 - val_loss: 0.7073\n",
      "Epoch 32: early stopping\n"
     ]
    }
   ],
   "source": [
    "saved_path = './Prj1Models/'\n",
    "checkpointer = ModelCheckpoint(filepath=os.path.join(saved_path, \"sigmoid_sgd_model.keras\"), \n",
    "                               verbose=0, save_best_only=True)\n",
    "\n",
    "for i in range(3):\n",
    "    print('\\nRun: ', i + 1)\n",
    "    \n",
    "    sig_modelv2 = Sequential()\n",
    "    sig_modelv2.add(Dense(50, input_dim=x.shape[1], activation='sigmoid')) # set to 50 neurons\n",
    "    sig_modelv2.add(Dense(20, activation='sigmoid')) # added layer\n",
    "    sig_modelv2.add(Dense(20, activation='sigmoid')) # added layer\n",
    "    sig_modelv2.add(Dense(10, activation='sigmoid'))\n",
    "    sig_modelv2.add(Dense(1))\n",
    "\n",
    "    sig_modelv2.compile(loss='mean_squared_error', optimizer='sgd') # set to sgd \n",
    "\n",
    "    monitor = EarlyStopping(monitor='val_loss', min_delta=1e-4, patience=3, verbose=1, mode='auto')\n",
    "\n",
    "    sig_modelv2.fit(x_train, y_train, validation_data=(x_test, y_test), \n",
    "                   callbacks=[monitor, checkpointer], verbose=2, epochs=1000)"
   ]
  },
  {
   "cell_type": "markdown",
   "id": "6f2e60dd",
   "metadata": {},
   "source": [
    "### Tanh model with 'adam' optimizer"
   ]
  },
  {
   "cell_type": "code",
   "execution_count": 20,
   "id": "5ba2f409",
   "metadata": {},
   "outputs": [
    {
     "name": "stdout",
     "output_type": "stream",
     "text": [
      "\n",
      "Run:  1\n",
      "Epoch 1/1000\n"
     ]
    },
    {
     "name": "stderr",
     "output_type": "stream",
     "text": [
      "/Users/yahir/anaconda3/envs/testenv/lib/python3.12/site-packages/keras/src/layers/core/dense.py:87: UserWarning: Do not pass an `input_shape`/`input_dim` argument to a layer. When using Sequential models, prefer using an `Input(shape)` object as the first layer in the model instead.\n",
      "  super().__init__(activity_regularizer=activity_regularizer, **kwargs)\n"
     ]
    },
    {
     "name": "stdout",
     "output_type": "stream",
     "text": [
      "1452/1452 - 1s - 964us/step - loss: 0.6205 - val_loss: 0.1037\n",
      "Epoch 2/1000\n",
      "1452/1452 - 1s - 600us/step - loss: 0.0967 - val_loss: 0.0853\n",
      "Epoch 3/1000\n",
      "1452/1452 - 1s - 584us/step - loss: 0.0858 - val_loss: 0.1137\n",
      "Epoch 4/1000\n",
      "1452/1452 - 1s - 588us/step - loss: 0.0819 - val_loss: 0.0804\n",
      "Epoch 5/1000\n",
      "1452/1452 - 1s - 578us/step - loss: 0.0796 - val_loss: 0.0889\n",
      "Epoch 6/1000\n",
      "1452/1452 - 1s - 579us/step - loss: 0.0790 - val_loss: 0.0811\n",
      "Epoch 7/1000\n",
      "1452/1452 - 1s - 589us/step - loss: 0.0771 - val_loss: 0.0783\n",
      "Epoch 8/1000\n",
      "1452/1452 - 1s - 586us/step - loss: 0.0744 - val_loss: 0.0760\n",
      "Epoch 9/1000\n",
      "1452/1452 - 1s - 580us/step - loss: 0.0759 - val_loss: 0.0802\n",
      "Epoch 10/1000\n",
      "1452/1452 - 1s - 592us/step - loss: 0.0753 - val_loss: 0.0820\n",
      "Epoch 11/1000\n",
      "1452/1452 - 1s - 621us/step - loss: 0.0738 - val_loss: 0.0807\n",
      "Epoch 11: early stopping\n",
      "\n",
      "Run:  2\n",
      "Epoch 1/1000\n"
     ]
    },
    {
     "name": "stderr",
     "output_type": "stream",
     "text": [
      "/Users/yahir/anaconda3/envs/testenv/lib/python3.12/site-packages/keras/src/layers/core/dense.py:87: UserWarning: Do not pass an `input_shape`/`input_dim` argument to a layer. When using Sequential models, prefer using an `Input(shape)` object as the first layer in the model instead.\n",
      "  super().__init__(activity_regularizer=activity_regularizer, **kwargs)\n"
     ]
    },
    {
     "name": "stdout",
     "output_type": "stream",
     "text": [
      "1452/1452 - 1s - 945us/step - loss: 0.5676 - val_loss: 0.1032\n",
      "Epoch 2/1000\n",
      "1452/1452 - 1s - 587us/step - loss: 0.0965 - val_loss: 0.0924\n",
      "Epoch 3/1000\n",
      "1452/1452 - 1s - 584us/step - loss: 0.0883 - val_loss: 0.1009\n",
      "Epoch 4/1000\n",
      "1452/1452 - 1s - 586us/step - loss: 0.0826 - val_loss: 0.0836\n",
      "Epoch 5/1000\n",
      "1452/1452 - 1s - 584us/step - loss: 0.0839 - val_loss: 0.0804\n",
      "Epoch 6/1000\n",
      "1452/1452 - 1s - 583us/step - loss: 0.0794 - val_loss: 0.0774\n",
      "Epoch 7/1000\n",
      "1452/1452 - 1s - 582us/step - loss: 0.0778 - val_loss: 0.0832\n",
      "Epoch 8/1000\n",
      "1452/1452 - 1s - 585us/step - loss: 0.0783 - val_loss: 0.0803\n",
      "Epoch 9/1000\n",
      "1452/1452 - 1s - 587us/step - loss: 0.0751 - val_loss: 0.0819\n",
      "Epoch 9: early stopping\n",
      "\n",
      "Run:  3\n",
      "Epoch 1/1000\n"
     ]
    },
    {
     "name": "stderr",
     "output_type": "stream",
     "text": [
      "/Users/yahir/anaconda3/envs/testenv/lib/python3.12/site-packages/keras/src/layers/core/dense.py:87: UserWarning: Do not pass an `input_shape`/`input_dim` argument to a layer. When using Sequential models, prefer using an `Input(shape)` object as the first layer in the model instead.\n",
      "  super().__init__(activity_regularizer=activity_regularizer, **kwargs)\n"
     ]
    },
    {
     "name": "stdout",
     "output_type": "stream",
     "text": [
      "1452/1452 - 1s - 939us/step - loss: 0.3979 - val_loss: 0.1100\n",
      "Epoch 2/1000\n",
      "1452/1452 - 1s - 579us/step - loss: 0.0973 - val_loss: 0.0890\n",
      "Epoch 3/1000\n",
      "1452/1452 - 1s - 588us/step - loss: 0.0878 - val_loss: 0.0858\n",
      "Epoch 4/1000\n",
      "1452/1452 - 1s - 582us/step - loss: 0.0851 - val_loss: 0.1052\n",
      "Epoch 5/1000\n",
      "1452/1452 - 1s - 581us/step - loss: 0.0806 - val_loss: 0.0822\n",
      "Epoch 6/1000\n",
      "1452/1452 - 1s - 583us/step - loss: 0.0803 - val_loss: 0.0847\n",
      "Epoch 7/1000\n",
      "1452/1452 - 1s - 580us/step - loss: 0.0793 - val_loss: 0.0792\n",
      "Epoch 8/1000\n",
      "1452/1452 - 1s - 607us/step - loss: 0.0800 - val_loss: 0.0855\n",
      "Epoch 9/1000\n",
      "1452/1452 - 1s - 581us/step - loss: 0.0771 - val_loss: 0.0765\n",
      "Epoch 10/1000\n",
      "1452/1452 - 1s - 582us/step - loss: 0.0765 - val_loss: 0.0784\n",
      "Epoch 11/1000\n",
      "1452/1452 - 1s - 582us/step - loss: 0.0752 - val_loss: 0.0782\n",
      "Epoch 12/1000\n",
      "1452/1452 - 1s - 588us/step - loss: 0.0745 - val_loss: 0.0750\n",
      "Epoch 13/1000\n",
      "1452/1452 - 1s - 583us/step - loss: 0.0758 - val_loss: 0.0839\n",
      "Epoch 14/1000\n",
      "1452/1452 - 1s - 580us/step - loss: 0.0767 - val_loss: 0.0905\n",
      "Epoch 15/1000\n",
      "1452/1452 - 1s - 597us/step - loss: 0.0723 - val_loss: 0.0783\n",
      "Epoch 15: early stopping\n"
     ]
    }
   ],
   "source": [
    "saved_path = './Prj1Models/'\n",
    "checkpointer = ModelCheckpoint(filepath=os.path.join(saved_path, \"tanh_adam_model.keras\"), \n",
    "                               verbose=0, save_best_only=True)\n",
    "\n",
    "for i in range(3):\n",
    "    print('\\nRun: ', i + 1)\n",
    "    \n",
    "    tanh_model = Sequential()\n",
    "    tanh_model.add(Dense(25, input_dim=x.shape[1], activation='tanh'))\n",
    "    tanh_model.add(Dense(10, activation='tanh'))\n",
    "    tanh_model.add(Dense(1))\n",
    "\n",
    "    tanh_model.compile(loss='mean_squared_error', optimizer='adam')\n",
    "\n",
    "    monitor = EarlyStopping(monitor='val_loss', min_delta=1e-4, patience=3, verbose=1, mode='auto')\n",
    "\n",
    "    tanh_model.fit(x_train, y_train, validation_data=(x_test, y_test), \n",
    "                   callbacks=[monitor, checkpointer], verbose=2, epochs=1000)"
   ]
  },
  {
   "cell_type": "markdown",
   "id": "6ee219df",
   "metadata": {},
   "source": [
    "### Tanh model with 'sgd' optimizer. Added layers and increased neuron count"
   ]
  },
  {
   "cell_type": "code",
   "execution_count": 21,
   "id": "d2528297",
   "metadata": {},
   "outputs": [
    {
     "name": "stdout",
     "output_type": "stream",
     "text": [
      "\n",
      "Run:  1\n",
      "Epoch 1/1000\n"
     ]
    },
    {
     "name": "stderr",
     "output_type": "stream",
     "text": [
      "/Users/yahir/anaconda3/envs/testenv/lib/python3.12/site-packages/keras/src/layers/core/dense.py:87: UserWarning: Do not pass an `input_shape`/`input_dim` argument to a layer. When using Sequential models, prefer using an `Input(shape)` object as the first layer in the model instead.\n",
      "  super().__init__(activity_regularizer=activity_regularizer, **kwargs)\n"
     ]
    },
    {
     "name": "stdout",
     "output_type": "stream",
     "text": [
      "1452/1452 - 1s - 799us/step - loss: 0.7108 - val_loss: 0.7277\n",
      "Epoch 2/1000\n",
      "1452/1452 - 1s - 638us/step - loss: 0.7029 - val_loss: 0.6939\n",
      "Epoch 3/1000\n",
      "1452/1452 - 1s - 632us/step - loss: 0.7051 - val_loss: 0.6975\n",
      "Epoch 4/1000\n",
      "1452/1452 - 1s - 632us/step - loss: 0.7028 - val_loss: 0.6951\n",
      "Epoch 5/1000\n",
      "1452/1452 - 1s - 633us/step - loss: 0.7040 - val_loss: 0.6945\n",
      "Epoch 5: early stopping\n",
      "\n",
      "Run:  2\n",
      "Epoch 1/1000\n"
     ]
    },
    {
     "name": "stderr",
     "output_type": "stream",
     "text": [
      "/Users/yahir/anaconda3/envs/testenv/lib/python3.12/site-packages/keras/src/layers/core/dense.py:87: UserWarning: Do not pass an `input_shape`/`input_dim` argument to a layer. When using Sequential models, prefer using an `Input(shape)` object as the first layer in the model instead.\n",
      "  super().__init__(activity_regularizer=activity_regularizer, **kwargs)\n"
     ]
    },
    {
     "name": "stdout",
     "output_type": "stream",
     "text": [
      "1452/1452 - 1s - 833us/step - loss: 0.7126 - val_loss: 0.8410\n",
      "Epoch 2/1000\n",
      "1452/1452 - 1s - 640us/step - loss: 0.7032 - val_loss: 0.6927\n",
      "Epoch 3/1000\n",
      "1452/1452 - 1s - 639us/step - loss: 0.7044 - val_loss: 0.7366\n",
      "Epoch 4/1000\n",
      "1452/1452 - 1s - 633us/step - loss: 0.7033 - val_loss: 0.6972\n",
      "Epoch 5/1000\n",
      "1452/1452 - 1s - 636us/step - loss: 0.7033 - val_loss: 0.7714\n",
      "Epoch 5: early stopping\n",
      "\n",
      "Run:  3\n",
      "Epoch 1/1000\n"
     ]
    },
    {
     "name": "stderr",
     "output_type": "stream",
     "text": [
      "/Users/yahir/anaconda3/envs/testenv/lib/python3.12/site-packages/keras/src/layers/core/dense.py:87: UserWarning: Do not pass an `input_shape`/`input_dim` argument to a layer. When using Sequential models, prefer using an `Input(shape)` object as the first layer in the model instead.\n",
      "  super().__init__(activity_regularizer=activity_regularizer, **kwargs)\n"
     ]
    },
    {
     "name": "stdout",
     "output_type": "stream",
     "text": [
      "1452/1452 - 1s - 788us/step - loss: 0.7193 - val_loss: 0.6934\n",
      "Epoch 2/1000\n",
      "1452/1452 - 1s - 629us/step - loss: 0.7016 - val_loss: 0.6903\n",
      "Epoch 3/1000\n",
      "1452/1452 - 1s - 631us/step - loss: 0.7016 - val_loss: 0.6924\n",
      "Epoch 4/1000\n",
      "1452/1452 - 1s - 635us/step - loss: 0.6997 - val_loss: 0.6883\n",
      "Epoch 5/1000\n",
      "1452/1452 - 1s - 634us/step - loss: 0.7017 - val_loss: 0.6898\n",
      "Epoch 6/1000\n",
      "1452/1452 - 1s - 630us/step - loss: 0.7001 - val_loss: 0.6991\n",
      "Epoch 7/1000\n",
      "1452/1452 - 1s - 635us/step - loss: 0.7022 - val_loss: 0.7056\n",
      "Epoch 7: early stopping\n"
     ]
    }
   ],
   "source": [
    "saved_path = './Prj1Models/'\n",
    "checkpointer = ModelCheckpoint(filepath=os.path.join(saved_path, \"tanh_sgd_model.keras\"), \n",
    "                               verbose=0, save_best_only=True)\n",
    "\n",
    "for i in range(3):\n",
    "    print('\\nRun: ', i + 1)\n",
    "    \n",
    "    tanh_modelv2 = Sequential()\n",
    "    tanh_modelv2.add(Dense(50, input_dim=x.shape[1], activation='tanh')) # Set to 50 neurons\n",
    "    tanh_modelv2.add(Dense(20, activation='tanh')) # added layer\n",
    "    tanh_modelv2.add(Dense(20, activation='tanh')) # added layer\n",
    "    tanh_modelv2.add(Dense(10, activation='tanh'))\n",
    "    tanh_modelv2.add(Dense(1))\n",
    "\n",
    "    tanh_modelv2.compile(loss='mean_squared_error', optimizer='sgd') # set to sgd \n",
    "\n",
    "    monitor = EarlyStopping(monitor='val_loss', min_delta=1e-4, patience=3, verbose=1, mode='auto')\n",
    "\n",
    "    tanh_modelv2.fit(x_train, y_train, validation_data=(x_test, y_test), \n",
    "                   callbacks=[monitor, checkpointer], verbose=2, epochs=1000)"
   ]
  },
  {
   "cell_type": "code",
   "execution_count": 22,
   "id": "615e01af",
   "metadata": {},
   "outputs": [],
   "source": [
    "from keras.models import load_model\n",
    "from sklearn import metrics"
   ]
  },
  {
   "cell_type": "markdown",
   "id": "9336377a",
   "metadata": {},
   "source": [
    "### Loading saved models"
   ]
  },
  {
   "cell_type": "code",
   "execution_count": 23,
   "id": "96956eb2",
   "metadata": {},
   "outputs": [],
   "source": [
    "relu_adam_load = load_model(os.path.join(saved_path, \"relu_adam_model.keras\"))\n",
    "relu_sgd_load = load_model(os.path.join(saved_path, \"relu_sgd_model.keras\"))\n",
    "sigmoid_adam_load = load_model(os.path.join(saved_path, \"sigmoid_adam_model.keras\"))\n",
    "sigmoid_sgd_load = load_model(os.path.join(saved_path, \"sigmoid_sgd_model.keras\"))\n",
    "tanh_adam_load = load_model(os.path.join(saved_path, \"tanh_adam_model.keras\"))\n",
    "tanh_sgd_load = load_model(os.path.join(saved_path, \"tanh_sgd_model.keras\"))"
   ]
  },
  {
   "cell_type": "markdown",
   "id": "4e61c9a1",
   "metadata": {},
   "source": [
    "## Determining best model"
   ]
  },
  {
   "cell_type": "code",
   "execution_count": 24,
   "id": "0e6b2564",
   "metadata": {},
   "outputs": [
    {
     "name": "stdout",
     "output_type": "stream",
     "text": [
      "\u001b[1m484/484\u001b[0m \u001b[32m━━━━━━━━━━━━━━━━━━━━\u001b[0m\u001b[37m\u001b[0m \u001b[1m0s\u001b[0m 352us/step\n",
      "\u001b[1m484/484\u001b[0m \u001b[32m━━━━━━━━━━━━━━━━━━━━\u001b[0m\u001b[37m\u001b[0m \u001b[1m0s\u001b[0m 648us/step\n",
      "\u001b[1m484/484\u001b[0m \u001b[32m━━━━━━━━━━━━━━━━━━━━\u001b[0m\u001b[37m\u001b[0m \u001b[1m0s\u001b[0m 343us/step\n",
      "\u001b[1m484/484\u001b[0m \u001b[32m━━━━━━━━━━━━━━━━━━━━\u001b[0m\u001b[37m\u001b[0m \u001b[1m0s\u001b[0m 400us/step\n",
      "\u001b[1m484/484\u001b[0m \u001b[32m━━━━━━━━━━━━━━━━━━━━\u001b[0m\u001b[37m\u001b[0m \u001b[1m0s\u001b[0m 344us/step\n",
      "\u001b[1m484/484\u001b[0m \u001b[32m━━━━━━━━━━━━━━━━━━━━\u001b[0m\u001b[37m\u001b[0m \u001b[1m0s\u001b[0m 397us/step\n",
      "Relu Model (Adam) RMSE: 0.28130898897471524\n",
      "Relu Model (SGD) RMSE: 0.8390146736069777\n",
      "Sigmoid Model (Adam) RMSE: 0.2738280020634935\n",
      "Sigmoid Model (SGD) RMSE: 0.7991163376846032\n",
      "Tanh Model (Adam) RMSE: 0.27381906808855955\n",
      "Tanh Model (SGD) RMSE: 0.8296553351928264\n",
      "\n",
      "Best RMSE is 0.27381906808855955 from model: Tanh Model (Adam)\n"
     ]
    }
   ],
   "source": [
    "# Create a dictionary of models and their predictions for simplicity\n",
    "predictions = {\n",
    "    'Relu Model (Adam)': relu_adam_load.predict(x_test),\n",
    "    'Relu Model (SGD)': relu_sgd_load.predict(x_test),\n",
    "    'Sigmoid Model (Adam)': sigmoid_adam_load.predict(x_test),\n",
    "    'Sigmoid Model (SGD)': sigmoid_sgd_load.predict(x_test),\n",
    "    'Tanh Model (Adam)': tanh_adam_load.predict(x_test),\n",
    "    'Tanh Model (SGD)': tanh_sgd_load.predict(x_test)\n",
    "}\n",
    "\n",
    "# Dictionary to store RMSEs\n",
    "model_rmse = {}\n",
    "\n",
    "# Calculate RMSE for each model and print\n",
    "for model_name, preds in predictions.items():\n",
    "    rmse = np.sqrt(metrics.mean_squared_error(y_test, preds))\n",
    "    model_rmse[model_name] = rmse\n",
    "    print(f'{model_name} RMSE: {rmse}')\n",
    "\n",
    "# Find the model with the best (lowest) RMSE\n",
    "best_model = min(model_rmse, key=model_rmse.get)\n",
    "best_rmse = model_rmse[best_model]\n",
    "\n",
    "# Print the best model and its RMSE\n",
    "print(f'\\nBest RMSE is {best_rmse} from model: {best_model}')\n"
   ]
  },
  {
   "cell_type": "code",
   "execution_count": 25,
   "id": "d92d96c3",
   "metadata": {
    "scrolled": true
   },
   "outputs": [
    {
     "name": "stdout",
     "output_type": "stream",
     "text": [
      "15480\n"
     ]
    },
    {
     "data": {
      "text/plain": [
       "array([[3.6136513],\n",
       "       [2.005492 ],\n",
       "       [4.147278 ],\n",
       "       ...,\n",
       "       [4.3045974],\n",
       "       [4.7296214],\n",
       "       [4.493166 ]], dtype=float32)"
      ]
     },
     "execution_count": 25,
     "metadata": {},
     "output_type": "execute_result"
    }
   ],
   "source": [
    "best_predicted_model = predictions[best_model]\n",
    "print(len(best_predicted_model))\n",
    "best_predicted_model"
   ]
  },
  {
   "cell_type": "markdown",
   "id": "1012bebb",
   "metadata": {},
   "source": [
    "## Predicting stars using best model"
   ]
  },
  {
   "cell_type": "code",
   "execution_count": 31,
   "id": "689395c6",
   "metadata": {},
   "outputs": [
    {
     "data": {
      "text/html": [
       "<div>\n",
       "<style scoped>\n",
       "    .dataframe tbody tr th:only-of-type {\n",
       "        vertical-align: middle;\n",
       "    }\n",
       "\n",
       "    .dataframe tbody tr th {\n",
       "        vertical-align: top;\n",
       "    }\n",
       "\n",
       "    .dataframe thead th {\n",
       "        text-align: right;\n",
       "    }\n",
       "</style>\n",
       "<table border=\"1\" class=\"dataframe\">\n",
       "  <thead>\n",
       "    <tr style=\"text-align: right;\">\n",
       "      <th></th>\n",
       "      <th>name</th>\n",
       "      <th>categories</th>\n",
       "      <th>stars</th>\n",
       "      <th>prediction</th>\n",
       "    </tr>\n",
       "  </thead>\n",
       "  <tbody>\n",
       "    <tr>\n",
       "      <th>2</th>\n",
       "      <td>Gio Taco</td>\n",
       "      <td>Restaurants, Mexican</td>\n",
       "      <td>4.5</td>\n",
       "      <td>4.147278</td>\n",
       "    </tr>\n",
       "    <tr>\n",
       "      <th>8</th>\n",
       "      <td>St. Louis Old Courthouse</td>\n",
       "      <td>Tours, Hotels &amp; Travel, Local Flavor, Landmarks &amp; Historical Buildings, Public Services &amp; Government</td>\n",
       "      <td>3.5</td>\n",
       "      <td>3.733194</td>\n",
       "    </tr>\n",
       "    <tr>\n",
       "      <th>24</th>\n",
       "      <td>Chins Wok</td>\n",
       "      <td>Chinese, Restaurants</td>\n",
       "      <td>4.5</td>\n",
       "      <td>4.596673</td>\n",
       "    </tr>\n",
       "    <tr>\n",
       "      <th>60</th>\n",
       "      <td>Robert K Rees Memorial Park</td>\n",
       "      <td>Parks, Active Life, Beaches</td>\n",
       "      <td>4.0</td>\n",
       "      <td>4.264149</td>\n",
       "    </tr>\n",
       "    <tr>\n",
       "      <th>77</th>\n",
       "      <td>Niki's Gyromania</td>\n",
       "      <td>Food, Desserts, Restaurants, Food Delivery Services, Greek, Local Flavor, American (Traditional)</td>\n",
       "      <td>3.5</td>\n",
       "      <td>4.315330</td>\n",
       "    </tr>\n",
       "  </tbody>\n",
       "</table>\n",
       "</div>"
      ],
      "text/plain": [
       "                           name  \\\n",
       "2                      Gio Taco   \n",
       "8      St. Louis Old Courthouse   \n",
       "24                    Chins Wok   \n",
       "60  Robert K Rees Memorial Park   \n",
       "77             Niki's Gyromania   \n",
       "\n",
       "                                                                                              categories  \\\n",
       "2                                                                                   Restaurants, Mexican   \n",
       "8   Tours, Hotels & Travel, Local Flavor, Landmarks & Historical Buildings, Public Services & Government   \n",
       "24                                                                                  Chinese, Restaurants   \n",
       "60                                                                           Parks, Active Life, Beaches   \n",
       "77      Food, Desserts, Restaurants, Food Delivery Services, Greek, Local Flavor, American (Traditional)   \n",
       "\n",
       "    stars  prediction  \n",
       "2     4.5    4.147278  \n",
       "8     3.5    3.733194  \n",
       "24    4.5    4.596673  \n",
       "60    4.0    4.264149  \n",
       "77    3.5    4.315330  "
      ]
     },
     "execution_count": 31,
     "metadata": {},
     "output_type": "execute_result"
    }
   ],
   "source": [
    "x_train, x_test, y_train, y_test = train_test_split(\n",
    "    df_merge[['business_id', 'name', 'categories']], df_merge['stars'], test_size=0.2, random_state=11)\n",
    "\n",
    "\n",
    "best_pred_df = pd.DataFrame(best_predicted_model, columns = ['prediction'])\n",
    "x_test_df = pd.DataFrame(x_test).sort_index().reset_index()\n",
    "y_test_true = y_test.reset_index()\n",
    "\n",
    "result = pd.concat([x_test_df, y_test_true, best_pred_df], axis=1)\n",
    "result.drop(['business_id', 'index'], axis=1, inplace=True)\n",
    "\n",
    "\n",
    "# Displaying random 5 businesses and their prediction\n",
    "df_compare_star = pd.DataFrame(result.loc[[2, 8, 24, 60, 77]])\n",
    "df_compare_star"
   ]
  },
  {
   "cell_type": "markdown",
   "id": "f96b1f15",
   "metadata": {},
   "source": [
    "## Regression lift chart "
   ]
  },
  {
   "cell_type": "code",
   "execution_count": 32,
   "id": "29f8611e",
   "metadata": {},
   "outputs": [
    {
     "name": "stderr",
     "output_type": "stream",
     "text": [
      "/var/folders/_k/q45vw9td1jl29v48bt_08hr80000gn/T/ipykernel_1069/2604281775.py:8: FutureWarning: Series.ravel is deprecated. The underlying array is already 1D, so ravel is not necessary.  Use `to_numpy()` for conversion to a numpy array instead.\n",
      "  y = y.ravel()\n"
     ]
    },
    {
     "data": {
      "image/png": "[encoded data removed]",
      "text/plain": [
       "<Figure size 1000x1000 with 1 Axes>"
      ]
     },
     "metadata": {},
     "output_type": "display_data"
    }
   ],
   "source": [
    "import matplotlib.pyplot as plt\n",
    "import pandas as pd\n",
    "\n",
    "plt.rcParams['figure.figsize'] = [10, 10]\n",
    "\n",
    "def chart_regression(pred, y, sort=True, x_limits=None):\n",
    "    if isinstance(y, pd.Series):\n",
    "        y = y.ravel()\n",
    "    else:\n",
    "        y = y.flatten()\n",
    "\n",
    "    t = pd.DataFrame({'pred': pred, 'y': y})\n",
    "    \n",
    "    if sort:\n",
    "        t.sort_values(by=['y'], inplace=True)\n",
    "    \n",
    "    # Plotting data\n",
    "    plt.figure()\n",
    "    plt.plot(t['y'].tolist(), label='Expected', marker='o')\n",
    "    plt.plot(t['pred'].tolist(), label='Prediction', marker='x')\n",
    "    plt.ylabel('Output')\n",
    "    plt.xlabel('Sorted Samples')\n",
    "    plt.title('Regression Predictions vs. Actual Data')\n",
    "    plt.legend()\n",
    "    plt.grid(True)\n",
    "    \n",
    "    if x_limits:\n",
    "        plt.xlim(x_limits[0], x_limits[1])\n",
    "\n",
    "    plt.show()\n",
    "\n",
    "chart_regression(best_predicted_model.flatten(), y_test_copy, sort=True, x_limits=(100, 2500))\n",
    "\n"
   ]
  },
  {
   "cell_type": "code",
   "execution_count": null,
   "id": "06a3e8b9",
   "metadata": {},
   "outputs": [],
   "source": []
  }
 ],
 "metadata": {
  "kernelspec": {
   "display_name": "testenv",
   "language": "python",
   "name": "testenv"
  },
  "language_info": {
   "codemirror_mode": {
    "name": "ipython",
    "version": 3
   },
   "file_extension": ".py",
   "mimetype": "text/x-python",
   "name": "python",
   "nbconvert_exporter": "python",
   "pygments_lexer": "ipython3",
   "version": "3.12.6"
  }
 },
 "nbformat": 4,
 "nbformat_minor": 5
}
